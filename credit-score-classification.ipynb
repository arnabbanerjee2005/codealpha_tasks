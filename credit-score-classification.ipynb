{
 "cells": [
  {
   "cell_type": "code",
   "execution_count": null,
   "metadata": {
    "_cell_guid": "b1076dfc-b9ad-4769-8c92-a6c4dae69d19",
    "_uuid": "8f2839f25d086af736a60e9eeb907d3b93b6e0e5",
    "execution": {
     "iopub.execute_input": "2025-09-10T09:52:30.464279Z",
     "iopub.status.busy": "2025-09-10T09:52:30.463735Z",
     "iopub.status.idle": "2025-09-10T09:52:30.778054Z",
     "shell.execute_reply": "2025-09-10T09:52:30.777301Z",
     "shell.execute_reply.started": "2025-09-10T09:52:30.464243Z"
    },
    "trusted": true
   },
   "outputs": [
    {
     "name": "stdout",
     "output_type": "stream",
     "text": [
      "/kaggle/input/credit-score-classification/train.csv\n",
      "/kaggle/input/credit-score-classification/test.csv\n"
     ]
    }
   ],
   "source": [
    "\n",
    "import numpy as np # linear algebra\n",
    "import pandas as pd # data processing, CSV file I/O (e.g. pd.read_csv)\n",
    "\n",
    "\n",
    "import os\n",
    "for dirname, _, filenames in os.walk('/kaggle/input'):\n",
    "    for filename in filenames:\n",
    "        print(os.path.join(dirname, filename))\n",
    "\n"
   ]
  },
  {
   "cell_type": "code",
   "execution_count": 2,
   "metadata": {
    "execution": {
     "iopub.execute_input": "2025-09-10T09:52:30.779521Z",
     "iopub.status.busy": "2025-09-10T09:52:30.779240Z",
     "iopub.status.idle": "2025-09-10T09:52:51.838875Z",
     "shell.execute_reply": "2025-09-10T09:52:51.838320Z",
     "shell.execute_reply.started": "2025-09-10T09:52:30.779504Z"
    },
    "trusted": true
   },
   "outputs": [
    {
     "name": "stderr",
     "output_type": "stream",
     "text": [
      "WARNING: All log messages before absl::InitializeLog() is called are written to STDERR\n",
      "E0000 00:00:1757497955.270487      83 cuda_dnn.cc:8310] Unable to register cuDNN factory: Attempting to register factory for plugin cuDNN when one has already been registered\n",
      "E0000 00:00:1757497955.373651      83 cuda_blas.cc:1418] Unable to register cuBLAS factory: Attempting to register factory for plugin cuBLAS when one has already been registered\n"
     ]
    }
   ],
   "source": [
    "import os\n",
    "os.environ[\"TF_CPP_MIN_LOG_LEVEL\"] = \"3\"\n",
    "import re    #Regular Expressions ( re ) module in Python\n",
    "from keras.utils import pad_sequences\n",
    "from keras.models import Sequential\n",
    "from keras.layers import Dense, Embedding, LSTM, Dropout\n",
    "from sklearn.model_selection import train_test_split\n",
    "from sklearn.preprocessing import MinMaxScaler, LabelEncoder , OneHotEncoder\n",
    "from tensorflow.keras.preprocessing import sequence\n",
    "from keras.callbacks import EarlyStopping\n",
    "import matplotlib.pyplot as plt\n",
    "import seaborn as sns\n",
    "from sklearn.pipeline import Pipeline\n"
   ]
  },
  {
   "cell_type": "code",
   "execution_count": 3,
   "metadata": {
    "execution": {
     "iopub.execute_input": "2025-09-10T09:52:51.840072Z",
     "iopub.status.busy": "2025-09-10T09:52:51.839579Z",
     "iopub.status.idle": "2025-09-10T09:52:53.441508Z",
     "shell.execute_reply": "2025-09-10T09:52:53.440901Z",
     "shell.execute_reply.started": "2025-09-10T09:52:51.840046Z"
    },
    "trusted": true
   },
   "outputs": [],
   "source": [
    "# Load the uploaded data\n",
    "test_path = '/kaggle/input/credit-score-classification/test.csv'\n",
    "train_path = '/kaggle/input/credit-score-classification/train.csv'\n",
    "\n",
    "# Read the datasets\n",
    "test_record = pd.read_csv(test_path)\n",
    "train_record = pd.read_csv(train_path, low_memory=False)"
   ]
  },
  {
   "cell_type": "code",
   "execution_count": 4,
   "metadata": {
    "execution": {
     "iopub.execute_input": "2025-09-10T09:52:53.443633Z",
     "iopub.status.busy": "2025-09-10T09:52:53.443411Z",
     "iopub.status.idle": "2025-09-10T09:52:53.486636Z",
     "shell.execute_reply": "2025-09-10T09:52:53.485978Z",
     "shell.execute_reply.started": "2025-09-10T09:52:53.443615Z"
    },
    "trusted": true
   },
   "outputs": [
    {
     "name": "stderr",
     "output_type": "stream",
     "text": [
      "/usr/local/lib/python3.11/dist-packages/pandas/io/formats/format.py:1458: RuntimeWarning: invalid value encountered in greater\n",
      "  has_large_values = (abs_vals > 1e6).any()\n",
      "/usr/local/lib/python3.11/dist-packages/pandas/io/formats/format.py:1459: RuntimeWarning: invalid value encountered in less\n",
      "  has_small_values = ((abs_vals < 10 ** (-self.digits)) & (abs_vals > 0)).any()\n",
      "/usr/local/lib/python3.11/dist-packages/pandas/io/formats/format.py:1459: RuntimeWarning: invalid value encountered in greater\n",
      "  has_small_values = ((abs_vals < 10 ** (-self.digits)) & (abs_vals > 0)).any()\n",
      "/usr/local/lib/python3.11/dist-packages/pandas/io/formats/format.py:1458: RuntimeWarning: invalid value encountered in greater\n",
      "  has_large_values = (abs_vals > 1e6).any()\n",
      "/usr/local/lib/python3.11/dist-packages/pandas/io/formats/format.py:1459: RuntimeWarning: invalid value encountered in less\n",
      "  has_small_values = ((abs_vals < 10 ** (-self.digits)) & (abs_vals > 0)).any()\n",
      "/usr/local/lib/python3.11/dist-packages/pandas/io/formats/format.py:1459: RuntimeWarning: invalid value encountered in greater\n",
      "  has_small_values = ((abs_vals < 10 ** (-self.digits)) & (abs_vals > 0)).any()\n"
     ]
    },
    {
     "data": {
      "text/html": [
       "<div>\n",
       "<style scoped>\n",
       "    .dataframe tbody tr th:only-of-type {\n",
       "        vertical-align: middle;\n",
       "    }\n",
       "\n",
       "    .dataframe tbody tr th {\n",
       "        vertical-align: top;\n",
       "    }\n",
       "\n",
       "    .dataframe thead th {\n",
       "        text-align: right;\n",
       "    }\n",
       "</style>\n",
       "<table border=\"1\" class=\"dataframe\">\n",
       "  <thead>\n",
       "    <tr style=\"text-align: right;\">\n",
       "      <th></th>\n",
       "      <th>ID</th>\n",
       "      <th>Customer_ID</th>\n",
       "      <th>Month</th>\n",
       "      <th>Name</th>\n",
       "      <th>Age</th>\n",
       "      <th>SSN</th>\n",
       "      <th>Occupation</th>\n",
       "      <th>Annual_Income</th>\n",
       "      <th>Monthly_Inhand_Salary</th>\n",
       "      <th>Num_Bank_Accounts</th>\n",
       "      <th>...</th>\n",
       "      <th>Credit_Mix</th>\n",
       "      <th>Outstanding_Debt</th>\n",
       "      <th>Credit_Utilization_Ratio</th>\n",
       "      <th>Credit_History_Age</th>\n",
       "      <th>Payment_of_Min_Amount</th>\n",
       "      <th>Total_EMI_per_month</th>\n",
       "      <th>Amount_invested_monthly</th>\n",
       "      <th>Payment_Behaviour</th>\n",
       "      <th>Monthly_Balance</th>\n",
       "      <th>Credit_Score</th>\n",
       "    </tr>\n",
       "  </thead>\n",
       "  <tbody>\n",
       "    <tr>\n",
       "      <th>0</th>\n",
       "      <td>0x1602</td>\n",
       "      <td>CUS_0xd40</td>\n",
       "      <td>January</td>\n",
       "      <td>Aaron Maashoh</td>\n",
       "      <td>23</td>\n",
       "      <td>821-00-0265</td>\n",
       "      <td>Scientist</td>\n",
       "      <td>19114.12</td>\n",
       "      <td>1824.843333</td>\n",
       "      <td>3</td>\n",
       "      <td>...</td>\n",
       "      <td>_</td>\n",
       "      <td>809.98</td>\n",
       "      <td>26.822620</td>\n",
       "      <td>22 Years and 1 Months</td>\n",
       "      <td>No</td>\n",
       "      <td>49.574949</td>\n",
       "      <td>80.41529543900253</td>\n",
       "      <td>High_spent_Small_value_payments</td>\n",
       "      <td>312.49408867943663</td>\n",
       "      <td>Good</td>\n",
       "    </tr>\n",
       "    <tr>\n",
       "      <th>1</th>\n",
       "      <td>0x1603</td>\n",
       "      <td>CUS_0xd40</td>\n",
       "      <td>February</td>\n",
       "      <td>Aaron Maashoh</td>\n",
       "      <td>23</td>\n",
       "      <td>821-00-0265</td>\n",
       "      <td>Scientist</td>\n",
       "      <td>19114.12</td>\n",
       "      <td>NaN</td>\n",
       "      <td>3</td>\n",
       "      <td>...</td>\n",
       "      <td>Good</td>\n",
       "      <td>809.98</td>\n",
       "      <td>31.944960</td>\n",
       "      <td>NaN</td>\n",
       "      <td>No</td>\n",
       "      <td>49.574949</td>\n",
       "      <td>118.28022162236736</td>\n",
       "      <td>Low_spent_Large_value_payments</td>\n",
       "      <td>284.62916249607184</td>\n",
       "      <td>Good</td>\n",
       "    </tr>\n",
       "    <tr>\n",
       "      <th>2</th>\n",
       "      <td>0x1604</td>\n",
       "      <td>CUS_0xd40</td>\n",
       "      <td>March</td>\n",
       "      <td>Aaron Maashoh</td>\n",
       "      <td>-500</td>\n",
       "      <td>821-00-0265</td>\n",
       "      <td>Scientist</td>\n",
       "      <td>19114.12</td>\n",
       "      <td>NaN</td>\n",
       "      <td>3</td>\n",
       "      <td>...</td>\n",
       "      <td>Good</td>\n",
       "      <td>809.98</td>\n",
       "      <td>28.609352</td>\n",
       "      <td>22 Years and 3 Months</td>\n",
       "      <td>No</td>\n",
       "      <td>49.574949</td>\n",
       "      <td>81.699521264648</td>\n",
       "      <td>Low_spent_Medium_value_payments</td>\n",
       "      <td>331.2098628537912</td>\n",
       "      <td>Good</td>\n",
       "    </tr>\n",
       "    <tr>\n",
       "      <th>3</th>\n",
       "      <td>0x1605</td>\n",
       "      <td>CUS_0xd40</td>\n",
       "      <td>April</td>\n",
       "      <td>Aaron Maashoh</td>\n",
       "      <td>23</td>\n",
       "      <td>821-00-0265</td>\n",
       "      <td>Scientist</td>\n",
       "      <td>19114.12</td>\n",
       "      <td>NaN</td>\n",
       "      <td>3</td>\n",
       "      <td>...</td>\n",
       "      <td>Good</td>\n",
       "      <td>809.98</td>\n",
       "      <td>31.377862</td>\n",
       "      <td>22 Years and 4 Months</td>\n",
       "      <td>No</td>\n",
       "      <td>49.574949</td>\n",
       "      <td>199.4580743910713</td>\n",
       "      <td>Low_spent_Small_value_payments</td>\n",
       "      <td>223.45130972736786</td>\n",
       "      <td>Good</td>\n",
       "    </tr>\n",
       "    <tr>\n",
       "      <th>4</th>\n",
       "      <td>0x1606</td>\n",
       "      <td>CUS_0xd40</td>\n",
       "      <td>May</td>\n",
       "      <td>Aaron Maashoh</td>\n",
       "      <td>23</td>\n",
       "      <td>821-00-0265</td>\n",
       "      <td>Scientist</td>\n",
       "      <td>19114.12</td>\n",
       "      <td>1824.843333</td>\n",
       "      <td>3</td>\n",
       "      <td>...</td>\n",
       "      <td>Good</td>\n",
       "      <td>809.98</td>\n",
       "      <td>24.797347</td>\n",
       "      <td>22 Years and 5 Months</td>\n",
       "      <td>No</td>\n",
       "      <td>49.574949</td>\n",
       "      <td>41.420153086217326</td>\n",
       "      <td>High_spent_Medium_value_payments</td>\n",
       "      <td>341.48923103222177</td>\n",
       "      <td>Good</td>\n",
       "    </tr>\n",
       "  </tbody>\n",
       "</table>\n",
       "<p>5 rows × 28 columns</p>\n",
       "</div>"
      ],
      "text/plain": [
       "       ID Customer_ID     Month           Name   Age          SSN Occupation  \\\n",
       "0  0x1602   CUS_0xd40   January  Aaron Maashoh    23  821-00-0265  Scientist   \n",
       "1  0x1603   CUS_0xd40  February  Aaron Maashoh    23  821-00-0265  Scientist   \n",
       "2  0x1604   CUS_0xd40     March  Aaron Maashoh  -500  821-00-0265  Scientist   \n",
       "3  0x1605   CUS_0xd40     April  Aaron Maashoh    23  821-00-0265  Scientist   \n",
       "4  0x1606   CUS_0xd40       May  Aaron Maashoh    23  821-00-0265  Scientist   \n",
       "\n",
       "  Annual_Income  Monthly_Inhand_Salary  Num_Bank_Accounts  ...  Credit_Mix  \\\n",
       "0      19114.12            1824.843333                  3  ...           _   \n",
       "1      19114.12                    NaN                  3  ...        Good   \n",
       "2      19114.12                    NaN                  3  ...        Good   \n",
       "3      19114.12                    NaN                  3  ...        Good   \n",
       "4      19114.12            1824.843333                  3  ...        Good   \n",
       "\n",
       "   Outstanding_Debt Credit_Utilization_Ratio     Credit_History_Age  \\\n",
       "0            809.98                26.822620  22 Years and 1 Months   \n",
       "1            809.98                31.944960                    NaN   \n",
       "2            809.98                28.609352  22 Years and 3 Months   \n",
       "3            809.98                31.377862  22 Years and 4 Months   \n",
       "4            809.98                24.797347  22 Years and 5 Months   \n",
       "\n",
       "   Payment_of_Min_Amount Total_EMI_per_month Amount_invested_monthly  \\\n",
       "0                     No           49.574949       80.41529543900253   \n",
       "1                     No           49.574949      118.28022162236736   \n",
       "2                     No           49.574949         81.699521264648   \n",
       "3                     No           49.574949       199.4580743910713   \n",
       "4                     No           49.574949      41.420153086217326   \n",
       "\n",
       "                  Payment_Behaviour     Monthly_Balance Credit_Score  \n",
       "0   High_spent_Small_value_payments  312.49408867943663         Good  \n",
       "1    Low_spent_Large_value_payments  284.62916249607184         Good  \n",
       "2   Low_spent_Medium_value_payments   331.2098628537912         Good  \n",
       "3    Low_spent_Small_value_payments  223.45130972736786         Good  \n",
       "4  High_spent_Medium_value_payments  341.48923103222177         Good  \n",
       "\n",
       "[5 rows x 28 columns]"
      ]
     },
     "execution_count": 4,
     "metadata": {},
     "output_type": "execute_result"
    }
   ],
   "source": [
    "# Display the first few rows of train record dataset\n",
    "train_record.head()"
   ]
  },
  {
   "cell_type": "code",
   "execution_count": 5,
   "metadata": {
    "execution": {
     "iopub.execute_input": "2025-09-10T09:52:53.487538Z",
     "iopub.status.busy": "2025-09-10T09:52:53.487325Z",
     "iopub.status.idle": "2025-09-10T09:52:53.502759Z",
     "shell.execute_reply": "2025-09-10T09:52:53.502229Z",
     "shell.execute_reply.started": "2025-09-10T09:52:53.487500Z"
    },
    "trusted": true
   },
   "outputs": [
    {
     "name": "stderr",
     "output_type": "stream",
     "text": [
      "/usr/local/lib/python3.11/dist-packages/pandas/io/formats/format.py:1458: RuntimeWarning: invalid value encountered in greater\n",
      "  has_large_values = (abs_vals > 1e6).any()\n",
      "/usr/local/lib/python3.11/dist-packages/pandas/io/formats/format.py:1459: RuntimeWarning: invalid value encountered in less\n",
      "  has_small_values = ((abs_vals < 10 ** (-self.digits)) & (abs_vals > 0)).any()\n",
      "/usr/local/lib/python3.11/dist-packages/pandas/io/formats/format.py:1459: RuntimeWarning: invalid value encountered in greater\n",
      "  has_small_values = ((abs_vals < 10 ** (-self.digits)) & (abs_vals > 0)).any()\n",
      "/usr/local/lib/python3.11/dist-packages/pandas/io/formats/format.py:1458: RuntimeWarning: invalid value encountered in greater\n",
      "  has_large_values = (abs_vals > 1e6).any()\n",
      "/usr/local/lib/python3.11/dist-packages/pandas/io/formats/format.py:1459: RuntimeWarning: invalid value encountered in less\n",
      "  has_small_values = ((abs_vals < 10 ** (-self.digits)) & (abs_vals > 0)).any()\n",
      "/usr/local/lib/python3.11/dist-packages/pandas/io/formats/format.py:1459: RuntimeWarning: invalid value encountered in greater\n",
      "  has_small_values = ((abs_vals < 10 ** (-self.digits)) & (abs_vals > 0)).any()\n"
     ]
    },
    {
     "data": {
      "text/html": [
       "<div>\n",
       "<style scoped>\n",
       "    .dataframe tbody tr th:only-of-type {\n",
       "        vertical-align: middle;\n",
       "    }\n",
       "\n",
       "    .dataframe tbody tr th {\n",
       "        vertical-align: top;\n",
       "    }\n",
       "\n",
       "    .dataframe thead th {\n",
       "        text-align: right;\n",
       "    }\n",
       "</style>\n",
       "<table border=\"1\" class=\"dataframe\">\n",
       "  <thead>\n",
       "    <tr style=\"text-align: right;\">\n",
       "      <th></th>\n",
       "      <th>ID</th>\n",
       "      <th>Customer_ID</th>\n",
       "      <th>Month</th>\n",
       "      <th>Name</th>\n",
       "      <th>Age</th>\n",
       "      <th>SSN</th>\n",
       "      <th>Occupation</th>\n",
       "      <th>Annual_Income</th>\n",
       "      <th>Monthly_Inhand_Salary</th>\n",
       "      <th>Num_Bank_Accounts</th>\n",
       "      <th>...</th>\n",
       "      <th>Num_Credit_Inquiries</th>\n",
       "      <th>Credit_Mix</th>\n",
       "      <th>Outstanding_Debt</th>\n",
       "      <th>Credit_Utilization_Ratio</th>\n",
       "      <th>Credit_History_Age</th>\n",
       "      <th>Payment_of_Min_Amount</th>\n",
       "      <th>Total_EMI_per_month</th>\n",
       "      <th>Amount_invested_monthly</th>\n",
       "      <th>Payment_Behaviour</th>\n",
       "      <th>Monthly_Balance</th>\n",
       "    </tr>\n",
       "  </thead>\n",
       "  <tbody>\n",
       "    <tr>\n",
       "      <th>0</th>\n",
       "      <td>0x160a</td>\n",
       "      <td>CUS_0xd40</td>\n",
       "      <td>September</td>\n",
       "      <td>Aaron Maashoh</td>\n",
       "      <td>23</td>\n",
       "      <td>821-00-0265</td>\n",
       "      <td>Scientist</td>\n",
       "      <td>19114.12</td>\n",
       "      <td>1824.843333</td>\n",
       "      <td>3</td>\n",
       "      <td>...</td>\n",
       "      <td>2022.0</td>\n",
       "      <td>Good</td>\n",
       "      <td>809.98</td>\n",
       "      <td>35.030402</td>\n",
       "      <td>22 Years and 9 Months</td>\n",
       "      <td>No</td>\n",
       "      <td>49.574949</td>\n",
       "      <td>236.64268203272135</td>\n",
       "      <td>Low_spent_Small_value_payments</td>\n",
       "      <td>186.26670208571772</td>\n",
       "    </tr>\n",
       "    <tr>\n",
       "      <th>1</th>\n",
       "      <td>0x160b</td>\n",
       "      <td>CUS_0xd40</td>\n",
       "      <td>October</td>\n",
       "      <td>Aaron Maashoh</td>\n",
       "      <td>24</td>\n",
       "      <td>821-00-0265</td>\n",
       "      <td>Scientist</td>\n",
       "      <td>19114.12</td>\n",
       "      <td>1824.843333</td>\n",
       "      <td>3</td>\n",
       "      <td>...</td>\n",
       "      <td>4.0</td>\n",
       "      <td>Good</td>\n",
       "      <td>809.98</td>\n",
       "      <td>33.053114</td>\n",
       "      <td>22 Years and 10 Months</td>\n",
       "      <td>No</td>\n",
       "      <td>49.574949</td>\n",
       "      <td>21.465380264657146</td>\n",
       "      <td>High_spent_Medium_value_payments</td>\n",
       "      <td>361.44400385378196</td>\n",
       "    </tr>\n",
       "    <tr>\n",
       "      <th>2</th>\n",
       "      <td>0x160c</td>\n",
       "      <td>CUS_0xd40</td>\n",
       "      <td>November</td>\n",
       "      <td>Aaron Maashoh</td>\n",
       "      <td>24</td>\n",
       "      <td>821-00-0265</td>\n",
       "      <td>Scientist</td>\n",
       "      <td>19114.12</td>\n",
       "      <td>1824.843333</td>\n",
       "      <td>3</td>\n",
       "      <td>...</td>\n",
       "      <td>4.0</td>\n",
       "      <td>Good</td>\n",
       "      <td>809.98</td>\n",
       "      <td>33.811894</td>\n",
       "      <td>NaN</td>\n",
       "      <td>No</td>\n",
       "      <td>49.574949</td>\n",
       "      <td>148.23393788500925</td>\n",
       "      <td>Low_spent_Medium_value_payments</td>\n",
       "      <td>264.67544623342997</td>\n",
       "    </tr>\n",
       "    <tr>\n",
       "      <th>3</th>\n",
       "      <td>0x160d</td>\n",
       "      <td>CUS_0xd40</td>\n",
       "      <td>December</td>\n",
       "      <td>Aaron Maashoh</td>\n",
       "      <td>24_</td>\n",
       "      <td>821-00-0265</td>\n",
       "      <td>Scientist</td>\n",
       "      <td>19114.12</td>\n",
       "      <td>NaN</td>\n",
       "      <td>3</td>\n",
       "      <td>...</td>\n",
       "      <td>4.0</td>\n",
       "      <td>Good</td>\n",
       "      <td>809.98</td>\n",
       "      <td>32.430559</td>\n",
       "      <td>23 Years and 0 Months</td>\n",
       "      <td>No</td>\n",
       "      <td>49.574949</td>\n",
       "      <td>39.08251089460281</td>\n",
       "      <td>High_spent_Medium_value_payments</td>\n",
       "      <td>343.82687322383634</td>\n",
       "    </tr>\n",
       "    <tr>\n",
       "      <th>4</th>\n",
       "      <td>0x1616</td>\n",
       "      <td>CUS_0x21b1</td>\n",
       "      <td>September</td>\n",
       "      <td>Rick Rothackerj</td>\n",
       "      <td>28</td>\n",
       "      <td>004-07-5839</td>\n",
       "      <td>_______</td>\n",
       "      <td>34847.84</td>\n",
       "      <td>3037.986667</td>\n",
       "      <td>2</td>\n",
       "      <td>...</td>\n",
       "      <td>5.0</td>\n",
       "      <td>Good</td>\n",
       "      <td>605.03</td>\n",
       "      <td>25.926822</td>\n",
       "      <td>27 Years and 3 Months</td>\n",
       "      <td>No</td>\n",
       "      <td>18.816215</td>\n",
       "      <td>39.684018417945296</td>\n",
       "      <td>High_spent_Large_value_payments</td>\n",
       "      <td>485.2984336755923</td>\n",
       "    </tr>\n",
       "  </tbody>\n",
       "</table>\n",
       "<p>5 rows × 27 columns</p>\n",
       "</div>"
      ],
      "text/plain": [
       "       ID Customer_ID      Month             Name  Age          SSN  \\\n",
       "0  0x160a   CUS_0xd40  September    Aaron Maashoh   23  821-00-0265   \n",
       "1  0x160b   CUS_0xd40    October    Aaron Maashoh   24  821-00-0265   \n",
       "2  0x160c   CUS_0xd40   November    Aaron Maashoh   24  821-00-0265   \n",
       "3  0x160d   CUS_0xd40   December    Aaron Maashoh  24_  821-00-0265   \n",
       "4  0x1616  CUS_0x21b1  September  Rick Rothackerj   28  004-07-5839   \n",
       "\n",
       "  Occupation Annual_Income  Monthly_Inhand_Salary  Num_Bank_Accounts  ...  \\\n",
       "0  Scientist      19114.12            1824.843333                  3  ...   \n",
       "1  Scientist      19114.12            1824.843333                  3  ...   \n",
       "2  Scientist      19114.12            1824.843333                  3  ...   \n",
       "3  Scientist      19114.12                    NaN                  3  ...   \n",
       "4    _______      34847.84            3037.986667                  2  ...   \n",
       "\n",
       "   Num_Credit_Inquiries  Credit_Mix Outstanding_Debt Credit_Utilization_Ratio  \\\n",
       "0                2022.0        Good           809.98                35.030402   \n",
       "1                   4.0        Good           809.98                33.053114   \n",
       "2                   4.0        Good           809.98                33.811894   \n",
       "3                   4.0        Good           809.98                32.430559   \n",
       "4                   5.0        Good           605.03                25.926822   \n",
       "\n",
       "       Credit_History_Age Payment_of_Min_Amount Total_EMI_per_month  \\\n",
       "0   22 Years and 9 Months                    No           49.574949   \n",
       "1  22 Years and 10 Months                    No           49.574949   \n",
       "2                     NaN                    No           49.574949   \n",
       "3   23 Years and 0 Months                    No           49.574949   \n",
       "4   27 Years and 3 Months                    No           18.816215   \n",
       "\n",
       "   Amount_invested_monthly                 Payment_Behaviour  \\\n",
       "0       236.64268203272135    Low_spent_Small_value_payments   \n",
       "1       21.465380264657146  High_spent_Medium_value_payments   \n",
       "2       148.23393788500925   Low_spent_Medium_value_payments   \n",
       "3        39.08251089460281  High_spent_Medium_value_payments   \n",
       "4       39.684018417945296   High_spent_Large_value_payments   \n",
       "\n",
       "      Monthly_Balance  \n",
       "0  186.26670208571772  \n",
       "1  361.44400385378196  \n",
       "2  264.67544623342997  \n",
       "3  343.82687322383634  \n",
       "4   485.2984336755923  \n",
       "\n",
       "[5 rows x 27 columns]"
      ]
     },
     "execution_count": 5,
     "metadata": {},
     "output_type": "execute_result"
    }
   ],
   "source": [
    "# Display the first few rows of test record dataset\n",
    "test_record.head()"
   ]
  },
  {
   "cell_type": "code",
   "execution_count": 6,
   "metadata": {
    "execution": {
     "iopub.execute_input": "2025-09-10T09:52:53.503494Z",
     "iopub.status.busy": "2025-09-10T09:52:53.503319Z",
     "iopub.status.idle": "2025-09-10T09:52:53.530005Z",
     "shell.execute_reply": "2025-09-10T09:52:53.529441Z",
     "shell.execute_reply.started": "2025-09-10T09:52:53.503480Z"
    },
    "trusted": true
   },
   "outputs": [
    {
     "data": {
      "text/html": [
       "<div>\n",
       "<style scoped>\n",
       "    .dataframe tbody tr th:only-of-type {\n",
       "        vertical-align: middle;\n",
       "    }\n",
       "\n",
       "    .dataframe tbody tr th {\n",
       "        vertical-align: top;\n",
       "    }\n",
       "\n",
       "    .dataframe thead th {\n",
       "        text-align: right;\n",
       "    }\n",
       "</style>\n",
       "<table border=\"1\" class=\"dataframe\">\n",
       "  <thead>\n",
       "    <tr style=\"text-align: right;\">\n",
       "      <th></th>\n",
       "      <th>ID</th>\n",
       "      <th>Customer_ID</th>\n",
       "      <th>Month</th>\n",
       "      <th>Name</th>\n",
       "      <th>Age</th>\n",
       "      <th>SSN</th>\n",
       "      <th>Occupation</th>\n",
       "      <th>Annual_Income</th>\n",
       "      <th>Monthly_Inhand_Salary</th>\n",
       "      <th>Num_Bank_Accounts</th>\n",
       "      <th>...</th>\n",
       "      <th>Credit_Mix</th>\n",
       "      <th>Outstanding_Debt</th>\n",
       "      <th>Credit_Utilization_Ratio</th>\n",
       "      <th>Credit_History_Age</th>\n",
       "      <th>Payment_of_Min_Amount</th>\n",
       "      <th>Total_EMI_per_month</th>\n",
       "      <th>Amount_invested_monthly</th>\n",
       "      <th>Payment_Behaviour</th>\n",
       "      <th>Monthly_Balance</th>\n",
       "      <th>Credit_Score</th>\n",
       "    </tr>\n",
       "  </thead>\n",
       "  <tbody>\n",
       "    <tr>\n",
       "      <th>99995</th>\n",
       "      <td>0x25fe9</td>\n",
       "      <td>CUS_0x942c</td>\n",
       "      <td>April</td>\n",
       "      <td>Nicks</td>\n",
       "      <td>25</td>\n",
       "      <td>078-73-5990</td>\n",
       "      <td>Mechanic</td>\n",
       "      <td>39628.99</td>\n",
       "      <td>3359.415833</td>\n",
       "      <td>4</td>\n",
       "      <td>...</td>\n",
       "      <td>_</td>\n",
       "      <td>502.38</td>\n",
       "      <td>34.663572</td>\n",
       "      <td>31 Years and 6 Months</td>\n",
       "      <td>No</td>\n",
       "      <td>35.104023</td>\n",
       "      <td>60.97133255718485</td>\n",
       "      <td>High_spent_Large_value_payments</td>\n",
       "      <td>479.86622816574095</td>\n",
       "      <td>Poor</td>\n",
       "    </tr>\n",
       "    <tr>\n",
       "      <th>99996</th>\n",
       "      <td>0x25fea</td>\n",
       "      <td>CUS_0x942c</td>\n",
       "      <td>May</td>\n",
       "      <td>Nicks</td>\n",
       "      <td>25</td>\n",
       "      <td>078-73-5990</td>\n",
       "      <td>Mechanic</td>\n",
       "      <td>39628.99</td>\n",
       "      <td>3359.415833</td>\n",
       "      <td>4</td>\n",
       "      <td>...</td>\n",
       "      <td>_</td>\n",
       "      <td>502.38</td>\n",
       "      <td>40.565631</td>\n",
       "      <td>31 Years and 7 Months</td>\n",
       "      <td>No</td>\n",
       "      <td>35.104023</td>\n",
       "      <td>54.18595028760385</td>\n",
       "      <td>High_spent_Medium_value_payments</td>\n",
       "      <td>496.651610435322</td>\n",
       "      <td>Poor</td>\n",
       "    </tr>\n",
       "    <tr>\n",
       "      <th>99997</th>\n",
       "      <td>0x25feb</td>\n",
       "      <td>CUS_0x942c</td>\n",
       "      <td>June</td>\n",
       "      <td>Nicks</td>\n",
       "      <td>25</td>\n",
       "      <td>078-73-5990</td>\n",
       "      <td>Mechanic</td>\n",
       "      <td>39628.99</td>\n",
       "      <td>3359.415833</td>\n",
       "      <td>4</td>\n",
       "      <td>...</td>\n",
       "      <td>Good</td>\n",
       "      <td>502.38</td>\n",
       "      <td>41.255522</td>\n",
       "      <td>31 Years and 8 Months</td>\n",
       "      <td>No</td>\n",
       "      <td>35.104023</td>\n",
       "      <td>24.02847744864441</td>\n",
       "      <td>High_spent_Large_value_payments</td>\n",
       "      <td>516.8090832742814</td>\n",
       "      <td>Poor</td>\n",
       "    </tr>\n",
       "    <tr>\n",
       "      <th>99998</th>\n",
       "      <td>0x25fec</td>\n",
       "      <td>CUS_0x942c</td>\n",
       "      <td>July</td>\n",
       "      <td>Nicks</td>\n",
       "      <td>25</td>\n",
       "      <td>078-73-5990</td>\n",
       "      <td>Mechanic</td>\n",
       "      <td>39628.99</td>\n",
       "      <td>3359.415833</td>\n",
       "      <td>4</td>\n",
       "      <td>...</td>\n",
       "      <td>Good</td>\n",
       "      <td>502.38</td>\n",
       "      <td>33.638208</td>\n",
       "      <td>31 Years and 9 Months</td>\n",
       "      <td>No</td>\n",
       "      <td>35.104023</td>\n",
       "      <td>251.67258219721603</td>\n",
       "      <td>Low_spent_Large_value_payments</td>\n",
       "      <td>319.1649785257098</td>\n",
       "      <td>Standard</td>\n",
       "    </tr>\n",
       "    <tr>\n",
       "      <th>99999</th>\n",
       "      <td>0x25fed</td>\n",
       "      <td>CUS_0x942c</td>\n",
       "      <td>August</td>\n",
       "      <td>Nicks</td>\n",
       "      <td>25</td>\n",
       "      <td>078-73-5990</td>\n",
       "      <td>Mechanic</td>\n",
       "      <td>39628.99_</td>\n",
       "      <td>3359.415833</td>\n",
       "      <td>4</td>\n",
       "      <td>...</td>\n",
       "      <td>Good</td>\n",
       "      <td>502.38</td>\n",
       "      <td>34.192463</td>\n",
       "      <td>31 Years and 10 Months</td>\n",
       "      <td>No</td>\n",
       "      <td>35.104023</td>\n",
       "      <td>167.1638651610451</td>\n",
       "      <td>!@9#%8</td>\n",
       "      <td>393.6736955618808</td>\n",
       "      <td>Poor</td>\n",
       "    </tr>\n",
       "  </tbody>\n",
       "</table>\n",
       "<p>5 rows × 28 columns</p>\n",
       "</div>"
      ],
      "text/plain": [
       "            ID Customer_ID   Month   Name Age          SSN Occupation  \\\n",
       "99995  0x25fe9  CUS_0x942c   April  Nicks  25  078-73-5990   Mechanic   \n",
       "99996  0x25fea  CUS_0x942c     May  Nicks  25  078-73-5990   Mechanic   \n",
       "99997  0x25feb  CUS_0x942c    June  Nicks  25  078-73-5990   Mechanic   \n",
       "99998  0x25fec  CUS_0x942c    July  Nicks  25  078-73-5990   Mechanic   \n",
       "99999  0x25fed  CUS_0x942c  August  Nicks  25  078-73-5990   Mechanic   \n",
       "\n",
       "      Annual_Income  Monthly_Inhand_Salary  Num_Bank_Accounts  ...  \\\n",
       "99995      39628.99            3359.415833                  4  ...   \n",
       "99996      39628.99            3359.415833                  4  ...   \n",
       "99997      39628.99            3359.415833                  4  ...   \n",
       "99998      39628.99            3359.415833                  4  ...   \n",
       "99999     39628.99_            3359.415833                  4  ...   \n",
       "\n",
       "       Credit_Mix  Outstanding_Debt Credit_Utilization_Ratio  \\\n",
       "99995           _            502.38                34.663572   \n",
       "99996           _            502.38                40.565631   \n",
       "99997        Good            502.38                41.255522   \n",
       "99998        Good            502.38                33.638208   \n",
       "99999        Good            502.38                34.192463   \n",
       "\n",
       "           Credit_History_Age  Payment_of_Min_Amount Total_EMI_per_month  \\\n",
       "99995   31 Years and 6 Months                     No           35.104023   \n",
       "99996   31 Years and 7 Months                     No           35.104023   \n",
       "99997   31 Years and 8 Months                     No           35.104023   \n",
       "99998   31 Years and 9 Months                     No           35.104023   \n",
       "99999  31 Years and 10 Months                     No           35.104023   \n",
       "\n",
       "      Amount_invested_monthly                 Payment_Behaviour  \\\n",
       "99995       60.97133255718485   High_spent_Large_value_payments   \n",
       "99996       54.18595028760385  High_spent_Medium_value_payments   \n",
       "99997       24.02847744864441   High_spent_Large_value_payments   \n",
       "99998      251.67258219721603    Low_spent_Large_value_payments   \n",
       "99999       167.1638651610451                            !@9#%8   \n",
       "\n",
       "          Monthly_Balance Credit_Score  \n",
       "99995  479.86622816574095         Poor  \n",
       "99996    496.651610435322         Poor  \n",
       "99997   516.8090832742814         Poor  \n",
       "99998   319.1649785257098     Standard  \n",
       "99999   393.6736955618808         Poor  \n",
       "\n",
       "[5 rows x 28 columns]"
      ]
     },
     "execution_count": 6,
     "metadata": {},
     "output_type": "execute_result"
    }
   ],
   "source": [
    "# Display the last few rows of train record dataset\n",
    "train_record.tail()"
   ]
  },
  {
   "cell_type": "code",
   "execution_count": 7,
   "metadata": {
    "execution": {
     "iopub.execute_input": "2025-09-10T09:52:53.530712Z",
     "iopub.status.busy": "2025-09-10T09:52:53.530538Z",
     "iopub.status.idle": "2025-09-10T09:52:53.558828Z",
     "shell.execute_reply": "2025-09-10T09:52:53.558183Z",
     "shell.execute_reply.started": "2025-09-10T09:52:53.530698Z"
    },
    "trusted": true
   },
   "outputs": [
    {
     "name": "stderr",
     "output_type": "stream",
     "text": [
      "/usr/local/lib/python3.11/dist-packages/pandas/io/formats/format.py:1458: RuntimeWarning: invalid value encountered in greater\n",
      "  has_large_values = (abs_vals > 1e6).any()\n",
      "/usr/local/lib/python3.11/dist-packages/pandas/io/formats/format.py:1459: RuntimeWarning: invalid value encountered in less\n",
      "  has_small_values = ((abs_vals < 10 ** (-self.digits)) & (abs_vals > 0)).any()\n",
      "/usr/local/lib/python3.11/dist-packages/pandas/io/formats/format.py:1459: RuntimeWarning: invalid value encountered in greater\n",
      "  has_small_values = ((abs_vals < 10 ** (-self.digits)) & (abs_vals > 0)).any()\n",
      "/usr/local/lib/python3.11/dist-packages/pandas/io/formats/format.py:1458: RuntimeWarning: invalid value encountered in greater\n",
      "  has_large_values = (abs_vals > 1e6).any()\n",
      "/usr/local/lib/python3.11/dist-packages/pandas/io/formats/format.py:1459: RuntimeWarning: invalid value encountered in less\n",
      "  has_small_values = ((abs_vals < 10 ** (-self.digits)) & (abs_vals > 0)).any()\n",
      "/usr/local/lib/python3.11/dist-packages/pandas/io/formats/format.py:1459: RuntimeWarning: invalid value encountered in greater\n",
      "  has_small_values = ((abs_vals < 10 ** (-self.digits)) & (abs_vals > 0)).any()\n"
     ]
    },
    {
     "data": {
      "text/html": [
       "<div>\n",
       "<style scoped>\n",
       "    .dataframe tbody tr th:only-of-type {\n",
       "        vertical-align: middle;\n",
       "    }\n",
       "\n",
       "    .dataframe tbody tr th {\n",
       "        vertical-align: top;\n",
       "    }\n",
       "\n",
       "    .dataframe thead th {\n",
       "        text-align: right;\n",
       "    }\n",
       "</style>\n",
       "<table border=\"1\" class=\"dataframe\">\n",
       "  <thead>\n",
       "    <tr style=\"text-align: right;\">\n",
       "      <th></th>\n",
       "      <th>ID</th>\n",
       "      <th>Customer_ID</th>\n",
       "      <th>Month</th>\n",
       "      <th>Name</th>\n",
       "      <th>Age</th>\n",
       "      <th>SSN</th>\n",
       "      <th>Occupation</th>\n",
       "      <th>Annual_Income</th>\n",
       "      <th>Monthly_Inhand_Salary</th>\n",
       "      <th>Num_Bank_Accounts</th>\n",
       "      <th>...</th>\n",
       "      <th>Num_Credit_Inquiries</th>\n",
       "      <th>Credit_Mix</th>\n",
       "      <th>Outstanding_Debt</th>\n",
       "      <th>Credit_Utilization_Ratio</th>\n",
       "      <th>Credit_History_Age</th>\n",
       "      <th>Payment_of_Min_Amount</th>\n",
       "      <th>Total_EMI_per_month</th>\n",
       "      <th>Amount_invested_monthly</th>\n",
       "      <th>Payment_Behaviour</th>\n",
       "      <th>Monthly_Balance</th>\n",
       "    </tr>\n",
       "  </thead>\n",
       "  <tbody>\n",
       "    <tr>\n",
       "      <th>49995</th>\n",
       "      <td>0x25fe5</td>\n",
       "      <td>CUS_0x8600</td>\n",
       "      <td>December</td>\n",
       "      <td>Sarah McBridec</td>\n",
       "      <td>4975</td>\n",
       "      <td>031-35-0942</td>\n",
       "      <td>Architect</td>\n",
       "      <td>20002.88</td>\n",
       "      <td>1929.906667</td>\n",
       "      <td>10</td>\n",
       "      <td>...</td>\n",
       "      <td>12.0</td>\n",
       "      <td>_</td>\n",
       "      <td>3571.7</td>\n",
       "      <td>34.780553</td>\n",
       "      <td>NaN</td>\n",
       "      <td>Yes</td>\n",
       "      <td>60.964772</td>\n",
       "      <td>146.48632477751087</td>\n",
       "      <td>Low_spent_Small_value_payments</td>\n",
       "      <td>275.53956951573343</td>\n",
       "    </tr>\n",
       "    <tr>\n",
       "      <th>49996</th>\n",
       "      <td>0x25fee</td>\n",
       "      <td>CUS_0x942c</td>\n",
       "      <td>September</td>\n",
       "      <td>Nicks</td>\n",
       "      <td>25</td>\n",
       "      <td>078-73-5990</td>\n",
       "      <td>Mechanic</td>\n",
       "      <td>39628.99</td>\n",
       "      <td>NaN</td>\n",
       "      <td>4</td>\n",
       "      <td>...</td>\n",
       "      <td>7.0</td>\n",
       "      <td>Good</td>\n",
       "      <td>502.38</td>\n",
       "      <td>27.758522</td>\n",
       "      <td>31 Years and 11 Months</td>\n",
       "      <td>NM</td>\n",
       "      <td>35.104023</td>\n",
       "      <td>181.44299902757518</td>\n",
       "      <td>Low_spent_Small_value_payments</td>\n",
       "      <td>409.39456169535066</td>\n",
       "    </tr>\n",
       "    <tr>\n",
       "      <th>49997</th>\n",
       "      <td>0x25fef</td>\n",
       "      <td>CUS_0x942c</td>\n",
       "      <td>October</td>\n",
       "      <td>Nicks</td>\n",
       "      <td>25</td>\n",
       "      <td>078-73-5990</td>\n",
       "      <td>Mechanic</td>\n",
       "      <td>39628.99</td>\n",
       "      <td>3359.415833</td>\n",
       "      <td>4</td>\n",
       "      <td>...</td>\n",
       "      <td>7.0</td>\n",
       "      <td>Good</td>\n",
       "      <td>502.38</td>\n",
       "      <td>36.858542</td>\n",
       "      <td>32 Years and 0 Months</td>\n",
       "      <td>No</td>\n",
       "      <td>35.104023</td>\n",
       "      <td>__10000__</td>\n",
       "      <td>Low_spent_Large_value_payments</td>\n",
       "      <td>349.7263321025098</td>\n",
       "    </tr>\n",
       "    <tr>\n",
       "      <th>49998</th>\n",
       "      <td>0x25ff0</td>\n",
       "      <td>CUS_0x942c</td>\n",
       "      <td>November</td>\n",
       "      <td>Nicks</td>\n",
       "      <td>25</td>\n",
       "      <td>078-73-5990</td>\n",
       "      <td>Mechanic</td>\n",
       "      <td>39628.99</td>\n",
       "      <td>NaN</td>\n",
       "      <td>4</td>\n",
       "      <td>...</td>\n",
       "      <td>7.0</td>\n",
       "      <td>Good</td>\n",
       "      <td>502.38</td>\n",
       "      <td>39.139840</td>\n",
       "      <td>32 Years and 1 Months</td>\n",
       "      <td>No</td>\n",
       "      <td>35.104023</td>\n",
       "      <td>97.59857973344877</td>\n",
       "      <td>High_spent_Small_value_payments</td>\n",
       "      <td>463.23898098947717</td>\n",
       "    </tr>\n",
       "    <tr>\n",
       "      <th>49999</th>\n",
       "      <td>0x25ff1</td>\n",
       "      <td>CUS_0x942c</td>\n",
       "      <td>December</td>\n",
       "      <td>Nicks</td>\n",
       "      <td>25</td>\n",
       "      <td>078-73-5990</td>\n",
       "      <td>Mechanic</td>\n",
       "      <td>39628.99</td>\n",
       "      <td>3359.415833</td>\n",
       "      <td>4</td>\n",
       "      <td>...</td>\n",
       "      <td>7.0</td>\n",
       "      <td>_</td>\n",
       "      <td>502.38</td>\n",
       "      <td>34.108530</td>\n",
       "      <td>32 Years and 2 Months</td>\n",
       "      <td>No</td>\n",
       "      <td>35.104023</td>\n",
       "      <td>220.45787812168732</td>\n",
       "      <td>Low_spent_Medium_value_payments</td>\n",
       "      <td>360.37968260123847</td>\n",
       "    </tr>\n",
       "  </tbody>\n",
       "</table>\n",
       "<p>5 rows × 27 columns</p>\n",
       "</div>"
      ],
      "text/plain": [
       "            ID Customer_ID      Month            Name   Age          SSN  \\\n",
       "49995  0x25fe5  CUS_0x8600   December  Sarah McBridec  4975  031-35-0942   \n",
       "49996  0x25fee  CUS_0x942c  September           Nicks    25  078-73-5990   \n",
       "49997  0x25fef  CUS_0x942c    October           Nicks    25  078-73-5990   \n",
       "49998  0x25ff0  CUS_0x942c   November           Nicks    25  078-73-5990   \n",
       "49999  0x25ff1  CUS_0x942c   December           Nicks    25  078-73-5990   \n",
       "\n",
       "      Occupation Annual_Income  Monthly_Inhand_Salary  Num_Bank_Accounts  ...  \\\n",
       "49995  Architect      20002.88            1929.906667                 10  ...   \n",
       "49996   Mechanic      39628.99                    NaN                  4  ...   \n",
       "49997   Mechanic      39628.99            3359.415833                  4  ...   \n",
       "49998   Mechanic      39628.99                    NaN                  4  ...   \n",
       "49999   Mechanic      39628.99            3359.415833                  4  ...   \n",
       "\n",
       "       Num_Credit_Inquiries  Credit_Mix Outstanding_Debt  \\\n",
       "49995                  12.0           _           3571.7   \n",
       "49996                   7.0        Good           502.38   \n",
       "49997                   7.0        Good           502.38   \n",
       "49998                   7.0        Good           502.38   \n",
       "49999                   7.0           _           502.38   \n",
       "\n",
       "      Credit_Utilization_Ratio      Credit_History_Age Payment_of_Min_Amount  \\\n",
       "49995                34.780553                     NaN                   Yes   \n",
       "49996                27.758522  31 Years and 11 Months                    NM   \n",
       "49997                36.858542   32 Years and 0 Months                    No   \n",
       "49998                39.139840   32 Years and 1 Months                    No   \n",
       "49999                34.108530   32 Years and 2 Months                    No   \n",
       "\n",
       "      Total_EMI_per_month  Amount_invested_monthly  \\\n",
       "49995           60.964772       146.48632477751087   \n",
       "49996           35.104023       181.44299902757518   \n",
       "49997           35.104023                __10000__   \n",
       "49998           35.104023        97.59857973344877   \n",
       "49999           35.104023       220.45787812168732   \n",
       "\n",
       "                     Payment_Behaviour     Monthly_Balance  \n",
       "49995   Low_spent_Small_value_payments  275.53956951573343  \n",
       "49996   Low_spent_Small_value_payments  409.39456169535066  \n",
       "49997   Low_spent_Large_value_payments   349.7263321025098  \n",
       "49998  High_spent_Small_value_payments  463.23898098947717  \n",
       "49999  Low_spent_Medium_value_payments  360.37968260123847  \n",
       "\n",
       "[5 rows x 27 columns]"
      ]
     },
     "execution_count": 7,
     "metadata": {},
     "output_type": "execute_result"
    }
   ],
   "source": [
    "# Display the last few rows of test record dataset\n",
    "test_record.tail()"
   ]
  },
  {
   "cell_type": "code",
   "execution_count": 8,
   "metadata": {
    "execution": {
     "iopub.execute_input": "2025-09-10T09:52:53.559830Z",
     "iopub.status.busy": "2025-09-10T09:52:53.559581Z",
     "iopub.status.idle": "2025-09-10T09:52:53.688525Z",
     "shell.execute_reply": "2025-09-10T09:52:53.687825Z",
     "shell.execute_reply.started": "2025-09-10T09:52:53.559808Z"
    },
    "trusted": true
   },
   "outputs": [
    {
     "name": "stdout",
     "output_type": "stream",
     "text": [
      "<class 'pandas.core.frame.DataFrame'>\n",
      "RangeIndex: 100000 entries, 0 to 99999\n",
      "Data columns (total 28 columns):\n",
      " #   Column                    Non-Null Count   Dtype  \n",
      "---  ------                    --------------   -----  \n",
      " 0   ID                        100000 non-null  object \n",
      " 1   Customer_ID               100000 non-null  object \n",
      " 2   Month                     100000 non-null  object \n",
      " 3   Name                      90015 non-null   object \n",
      " 4   Age                       100000 non-null  object \n",
      " 5   SSN                       100000 non-null  object \n",
      " 6   Occupation                100000 non-null  object \n",
      " 7   Annual_Income             100000 non-null  object \n",
      " 8   Monthly_Inhand_Salary     84998 non-null   float64\n",
      " 9   Num_Bank_Accounts         100000 non-null  int64  \n",
      " 10  Num_Credit_Card           100000 non-null  int64  \n",
      " 11  Interest_Rate             100000 non-null  int64  \n",
      " 12  Num_of_Loan               100000 non-null  object \n",
      " 13  Type_of_Loan              88592 non-null   object \n",
      " 14  Delay_from_due_date       100000 non-null  int64  \n",
      " 15  Num_of_Delayed_Payment    92998 non-null   object \n",
      " 16  Changed_Credit_Limit      100000 non-null  object \n",
      " 17  Num_Credit_Inquiries      98035 non-null   float64\n",
      " 18  Credit_Mix                100000 non-null  object \n",
      " 19  Outstanding_Debt          100000 non-null  object \n",
      " 20  Credit_Utilization_Ratio  100000 non-null  float64\n",
      " 21  Credit_History_Age        90970 non-null   object \n",
      " 22  Payment_of_Min_Amount     100000 non-null  object \n",
      " 23  Total_EMI_per_month       100000 non-null  float64\n",
      " 24  Amount_invested_monthly   95521 non-null   object \n",
      " 25  Payment_Behaviour         100000 non-null  object \n",
      " 26  Monthly_Balance           98800 non-null   object \n",
      " 27  Credit_Score              100000 non-null  object \n",
      "dtypes: float64(4), int64(4), object(20)\n",
      "memory usage: 21.4+ MB\n"
     ]
    }
   ],
   "source": [
    "# Display the information in the train record dataset\n",
    "train_record.info()"
   ]
  },
  {
   "cell_type": "code",
   "execution_count": 9,
   "metadata": {
    "execution": {
     "iopub.execute_input": "2025-09-10T09:52:53.689425Z",
     "iopub.status.busy": "2025-09-10T09:52:53.689254Z",
     "iopub.status.idle": "2025-09-10T09:52:53.723895Z",
     "shell.execute_reply": "2025-09-10T09:52:53.723356Z",
     "shell.execute_reply.started": "2025-09-10T09:52:53.689411Z"
    },
    "trusted": true
   },
   "outputs": [
    {
     "name": "stdout",
     "output_type": "stream",
     "text": [
      "\n",
      "Key numerical columns have been cleaned and converted to numeric type.\n"
     ]
    }
   ],
   "source": [
    "# Clean and prepare numerical columns for plotting ---\n",
    "# Convert columns to numeric, coercing errors to NaN. This is a more robust way\n",
    "# to handle non-numeric values (like strings or infinite values) in a numerical column.\n",
    "for col in ['Credit_Utilization_Ratio', 'Monthly_Balance', 'Monthly_Inhand_Salary']:\n",
    "    train_record[col] = pd.to_numeric(train_record[col], errors='coerce')\n",
    "print(\"\\nKey numerical columns have been cleaned and converted to numeric type.\")"
   ]
  },
  {
   "cell_type": "code",
   "execution_count": 10,
   "metadata": {
    "execution": {
     "iopub.execute_input": "2025-09-10T09:52:53.726480Z",
     "iopub.status.busy": "2025-09-10T09:52:53.726084Z",
     "iopub.status.idle": "2025-09-10T09:52:53.803985Z",
     "shell.execute_reply": "2025-09-10T09:52:53.803259Z",
     "shell.execute_reply.started": "2025-09-10T09:52:53.726462Z"
    },
    "trusted": true
   },
   "outputs": [
    {
     "name": "stdout",
     "output_type": "stream",
     "text": [
      "\n",
      "--- Descriptive Statistics for Numerical Features ---\n",
      "       Monthly_Inhand_Salary  Num_Bank_Accounts  Num_Credit_Card  \\\n",
      "count           84998.000000      100000.000000     100000.00000   \n",
      "mean             4194.170850          17.091280         22.47443   \n",
      "std              3183.686167         117.404834        129.05741   \n",
      "min               303.645417          -1.000000          0.00000   \n",
      "25%              1625.568229           3.000000          4.00000   \n",
      "50%              3093.745000           6.000000          5.00000   \n",
      "75%              5957.448333           7.000000          7.00000   \n",
      "max             15204.633333        1798.000000       1499.00000   \n",
      "\n",
      "       Interest_Rate  Delay_from_due_date  Num_Credit_Inquiries  \\\n",
      "count  100000.000000        100000.000000          98035.000000   \n",
      "mean       72.466040            21.068780             27.754251   \n",
      "std       466.422621            14.860104            193.177339   \n",
      "min         1.000000            -5.000000              0.000000   \n",
      "25%         8.000000            10.000000              3.000000   \n",
      "50%        13.000000            18.000000              6.000000   \n",
      "75%        20.000000            28.000000              9.000000   \n",
      "max      5797.000000            67.000000           2597.000000   \n",
      "\n",
      "       Credit_Utilization_Ratio  Total_EMI_per_month  Monthly_Balance  \n",
      "count             100000.000000        100000.000000     98791.000000  \n",
      "mean                  32.285173          1403.118217       402.551258  \n",
      "std                    5.116875          8306.041270       213.925499  \n",
      "min                   20.000000             0.000000         0.007760  \n",
      "25%                   28.052567            30.306660       270.106630  \n",
      "50%                   32.305784            69.249473       336.731225  \n",
      "75%                   36.496663           161.224249       470.262938  \n",
      "max                   50.000000         82331.000000      1602.040519  \n"
     ]
    }
   ],
   "source": [
    "# Display Descriptive Statistics (mean, median, std) for numerical features only ---\n",
    "print(\"\\n--- Descriptive Statistics for Numerical Features ---\")\n",
    "# Identify numerical columns (excluding the target variable)\n",
    "numerical_features = train_record.select_dtypes(include=['float64', 'int64']).columns.tolist()\n",
    "# Check for common non-numerical columns that might be misclassified\n",
    "non_numerical = ['ID', 'Customer_ID']\n",
    "numerical_features = [col for col in numerical_features if col not in non_numerical]\n",
    "print(train_record[numerical_features].describe())"
   ]
  },
  {
   "cell_type": "code",
   "execution_count": 11,
   "metadata": {
    "execution": {
     "iopub.execute_input": "2025-09-10T09:52:53.805154Z",
     "iopub.status.busy": "2025-09-10T09:52:53.804872Z",
     "iopub.status.idle": "2025-09-10T09:52:54.099038Z",
     "shell.execute_reply": "2025-09-10T09:52:54.098356Z",
     "shell.execute_reply.started": "2025-09-10T09:52:53.805131Z"
    },
    "trusted": true
   },
   "outputs": [
    {
     "name": "stdout",
     "output_type": "stream",
     "text": [
      "\n",
      "--- Distribution of Credit_Score ---\n"
     ]
    },
    {
     "data": {
      "image/png": "[encoded data removed]",
      "text/plain": [
       "<Figure size 800x600 with 1 Axes>"
      ]
     },
     "metadata": {},
     "output_type": "display_data"
    }
   ],
   "source": [
    "# Visualize the distribution of the target variable ---\n",
    "print(\"\\n--- Distribution of Credit_Score ---\")\n",
    "plt.figure(figsize=(8, 6))\n",
    "sns.countplot(x='Credit_Score', data=train_record, palette='viridis')\n",
    "plt.title('Distribution of Credit Score')\n",
    "plt.xlabel('Credit Score')\n",
    "plt.ylabel('Number of Instances')\n",
    "plt.show()"
   ]
  },
  {
   "cell_type": "code",
   "execution_count": 12,
   "metadata": {
    "execution": {
     "iopub.execute_input": "2025-09-10T09:52:54.099925Z",
     "iopub.status.busy": "2025-09-10T09:52:54.099680Z",
     "iopub.status.idle": "2025-09-10T09:52:56.389312Z",
     "shell.execute_reply": "2025-09-10T09:52:56.388558Z",
     "shell.execute_reply.started": "2025-09-10T09:52:54.099886Z"
    },
    "trusted": true
   },
   "outputs": [
    {
     "name": "stdout",
     "output_type": "stream",
     "text": [
      "\n",
      "--- Histograms for Key Numerical Features ---\n"
     ]
    },
    {
     "name": "stderr",
     "output_type": "stream",
     "text": [
      "/usr/local/lib/python3.11/dist-packages/seaborn/_oldcore.py:1119: FutureWarning: use_inf_as_na option is deprecated and will be removed in a future version. Convert inf values to NaN before operating instead.\n",
      "  with pd.option_context('mode.use_inf_as_na', True):\n",
      "/usr/local/lib/python3.11/dist-packages/seaborn/_oldcore.py:1119: FutureWarning: use_inf_as_na option is deprecated and will be removed in a future version. Convert inf values to NaN before operating instead.\n",
      "  with pd.option_context('mode.use_inf_as_na', True):\n",
      "/usr/local/lib/python3.11/dist-packages/seaborn/_oldcore.py:1119: FutureWarning: use_inf_as_na option is deprecated and will be removed in a future version. Convert inf values to NaN before operating instead.\n",
      "  with pd.option_context('mode.use_inf_as_na', True):\n"
     ]
    },
    {
     "data": {
      "image/png": "[encoded data removed]",
      "text/plain": [
       "<Figure size 1600x600 with 3 Axes>"
      ]
     },
     "metadata": {},
     "output_type": "display_data"
    }
   ],
   "source": [
    "# Visualize the distribution of a numerical feature with a histogram ---\n",
    "# This shows the frequency distribution of the data\n",
    "print(\"\\n--- Histograms for Key Numerical Features ---\")\n",
    "fig, axes = plt.subplots(1, 3,  figsize=(16, 6))\n",
    "sns.histplot(train_record['Credit_Utilization_Ratio'], bins=30, kde=True, ax=axes[0],color='green')\n",
    "axes[0].set_title('Distribution of Credit Utilization Ratio')\n",
    "sns.histplot(train_record['Monthly_Balance'], bins=40, kde=True, ax=axes[1])\n",
    "axes[1].set_title('Distribution of Monthly Balance')\n",
    "sns.histplot(train_record['Delay_from_due_date'], bins=50, kde=True, ax=axes[2],color='blue')\n",
    "axes[2].set_title('Distribution of Delay from Due Date')\n",
    "plt.tight_layout()\n",
    "plt.show()"
   ]
  },
  {
   "cell_type": "code",
   "execution_count": 13,
   "metadata": {
    "execution": {
     "iopub.execute_input": "2025-09-10T09:52:56.390267Z",
     "iopub.status.busy": "2025-09-10T09:52:56.390081Z",
     "iopub.status.idle": "2025-09-10T09:52:56.597564Z",
     "shell.execute_reply": "2025-09-10T09:52:56.596866Z",
     "shell.execute_reply.started": "2025-09-10T09:52:56.390253Z"
    },
    "trusted": true
   },
   "outputs": [
    {
     "name": "stdout",
     "output_type": "stream",
     "text": [
      "\n",
      "--- Monthly_Inhand_Salary vs. Credit_Score ---\n"
     ]
    },
    {
     "data": {
      "image/png": "[encoded data removed]",
      "text/plain": [
       "<Figure size 1000x800 with 1 Axes>"
      ]
     },
     "metadata": {},
     "output_type": "display_data"
    }
   ],
   "source": [
    "# Examine the relationship between two variables ---\n",
    "# Box plot showing how Monthly_Inhand_Salary varies with Credit_Score\n",
    "print(\"\\n--- Monthly_Inhand_Salary vs. Credit_Score ---\")\n",
    "plt.figure(figsize=(10, 8))\n",
    "sns.boxplot(x='Credit_Score', y='Monthly_Inhand_Salary', data=train_record, palette='magma')\n",
    "plt.title('Monthly Inhand Salary vs. Credit Score')\n",
    "plt.show()"
   ]
  },
  {
   "cell_type": "code",
   "execution_count": 14,
   "metadata": {
    "execution": {
     "iopub.execute_input": "2025-09-10T09:52:56.598626Z",
     "iopub.status.busy": "2025-09-10T09:52:56.598367Z",
     "iopub.status.idle": "2025-09-10T09:52:56.611824Z",
     "shell.execute_reply": "2025-09-10T09:52:56.611079Z",
     "shell.execute_reply.started": "2025-09-10T09:52:56.598607Z"
    },
    "trusted": true
   },
   "outputs": [
    {
     "name": "stdout",
     "output_type": "stream",
     "text": [
      "\n",
      "--- Unique values in Type_of_Loan (first 10) ---\n",
      "Type_of_Loan\n",
      "Not Specified                      1408\n",
      "Credit-Builder Loan                1280\n",
      "Personal Loan                      1272\n",
      "Debt Consolidation Loan            1264\n",
      "Student Loan                       1240\n",
      "Payday Loan                        1200\n",
      "Mortgage Loan                      1176\n",
      "Auto Loan                          1152\n",
      "Home Equity Loan                   1136\n",
      "Personal Loan, and Student Loan     320\n",
      "Name: count, dtype: int64\n"
     ]
    }
   ],
   "source": [
    "# Check a categorical feature with many unique values ---\n",
    "print(\"\\n--- Unique values in Type_of_Loan (first 10) ---\")\n",
    "print(train_record['Type_of_Loan'].value_counts().head(10))"
   ]
  },
  {
   "cell_type": "code",
   "execution_count": 15,
   "metadata": {
    "execution": {
     "iopub.execute_input": "2025-09-10T09:52:56.612969Z",
     "iopub.status.busy": "2025-09-10T09:52:56.612669Z",
     "iopub.status.idle": "2025-09-10T09:52:56.712386Z",
     "shell.execute_reply": "2025-09-10T09:52:56.711814Z",
     "shell.execute_reply.started": "2025-09-10T09:52:56.612946Z"
    },
    "trusted": true
   },
   "outputs": [
    {
     "data": {
      "text/plain": [
       "ID                              0\n",
       "Customer_ID                     0\n",
       "Month                           0\n",
       "Name                         9985\n",
       "Age                             0\n",
       "SSN                             0\n",
       "Occupation                      0\n",
       "Annual_Income                   0\n",
       "Monthly_Inhand_Salary       15002\n",
       "Num_Bank_Accounts               0\n",
       "Num_Credit_Card                 0\n",
       "Interest_Rate                   0\n",
       "Num_of_Loan                     0\n",
       "Type_of_Loan                11408\n",
       "Delay_from_due_date             0\n",
       "Num_of_Delayed_Payment       7002\n",
       "Changed_Credit_Limit            0\n",
       "Num_Credit_Inquiries         1965\n",
       "Credit_Mix                      0\n",
       "Outstanding_Debt                0\n",
       "Credit_Utilization_Ratio        0\n",
       "Credit_History_Age           9030\n",
       "Payment_of_Min_Amount           0\n",
       "Total_EMI_per_month             0\n",
       "Amount_invested_monthly      4479\n",
       "Payment_Behaviour               0\n",
       "Monthly_Balance              1209\n",
       "Credit_Score                    0\n",
       "dtype: int64"
      ]
     },
     "execution_count": 15,
     "metadata": {},
     "output_type": "execute_result"
    }
   ],
   "source": [
    "# Identify missing values for train record \n",
    "missing_summary = train_record.isnull().sum()\n",
    "missing_summary"
   ]
  },
  {
   "cell_type": "code",
   "execution_count": 16,
   "metadata": {
    "execution": {
     "iopub.execute_input": "2025-09-10T09:52:56.713242Z",
     "iopub.status.busy": "2025-09-10T09:52:56.713017Z",
     "iopub.status.idle": "2025-09-10T09:52:56.759055Z",
     "shell.execute_reply": "2025-09-10T09:52:56.758457Z",
     "shell.execute_reply.started": "2025-09-10T09:52:56.713217Z"
    },
    "trusted": true
   },
   "outputs": [
    {
     "data": {
      "text/plain": [
       "ID                             0\n",
       "Customer_ID                    0\n",
       "Month                          0\n",
       "Name                        5015\n",
       "Age                            0\n",
       "SSN                            0\n",
       "Occupation                     0\n",
       "Annual_Income                  0\n",
       "Monthly_Inhand_Salary       7498\n",
       "Num_Bank_Accounts              0\n",
       "Num_Credit_Card                0\n",
       "Interest_Rate                  0\n",
       "Num_of_Loan                    0\n",
       "Type_of_Loan                5704\n",
       "Delay_from_due_date            0\n",
       "Num_of_Delayed_Payment      3498\n",
       "Changed_Credit_Limit           0\n",
       "Num_Credit_Inquiries        1035\n",
       "Credit_Mix                     0\n",
       "Outstanding_Debt               0\n",
       "Credit_Utilization_Ratio       0\n",
       "Credit_History_Age          4470\n",
       "Payment_of_Min_Amount          0\n",
       "Total_EMI_per_month            0\n",
       "Amount_invested_monthly     2271\n",
       "Payment_Behaviour              0\n",
       "Monthly_Balance              562\n",
       "dtype: int64"
      ]
     },
     "execution_count": 16,
     "metadata": {},
     "output_type": "execute_result"
    }
   ],
   "source": [
    "# Identify missing values for test record\n",
    "missing_summary = test_record.isnull().sum()\n",
    "missing_summary"
   ]
  },
  {
   "cell_type": "code",
   "execution_count": 17,
   "metadata": {
    "execution": {
     "iopub.execute_input": "2025-09-10T09:52:56.760178Z",
     "iopub.status.busy": "2025-09-10T09:52:56.759845Z",
     "iopub.status.idle": "2025-09-10T09:52:56.921739Z",
     "shell.execute_reply": "2025-09-10T09:52:56.920892Z",
     "shell.execute_reply.started": "2025-09-10T09:52:56.760161Z"
    },
    "trusted": true
   },
   "outputs": [],
   "source": [
    "# Drop columns with more than 50% missing values (adjust threshold as needed) from train record\n",
    "threshold = len(train_record) * 0.5\n",
    "train_record = train_record.dropna(axis=1, thresh=threshold)"
   ]
  },
  {
   "cell_type": "code",
   "execution_count": 18,
   "metadata": {
    "execution": {
     "iopub.execute_input": "2025-09-10T09:52:56.922923Z",
     "iopub.status.busy": "2025-09-10T09:52:56.922652Z",
     "iopub.status.idle": "2025-09-10T09:52:56.976836Z",
     "shell.execute_reply": "2025-09-10T09:52:56.976105Z",
     "shell.execute_reply.started": "2025-09-10T09:52:56.922886Z"
    },
    "trusted": true
   },
   "outputs": [],
   "source": [
    "# Drop columns with more than 50% missing values (adjust threshold as needed) from test record\n",
    "threshold = len(test_record) * 0.5\n",
    "test_record = test_record.dropna(axis=1, thresh=threshold)"
   ]
  },
  {
   "cell_type": "code",
   "execution_count": 19,
   "metadata": {
    "execution": {
     "iopub.execute_input": "2025-09-10T09:52:56.977886Z",
     "iopub.status.busy": "2025-09-10T09:52:56.977694Z",
     "iopub.status.idle": "2025-09-10T09:52:57.343950Z",
     "shell.execute_reply": "2025-09-10T09:52:57.343166Z",
     "shell.execute_reply.started": "2025-09-10T09:52:56.977871Z"
    },
    "trusted": true
   },
   "outputs": [],
   "source": [
    "# Fill missing numeric values with the median for train\n",
    "numeric_cols = train_record.select_dtypes(include=['float64', 'int64']).columns\n",
    "train_record[numeric_cols] = train_record[numeric_cols].fillna(train_record[numeric_cols].median())\n",
    "\n",
    "# Fill missing categorical values with the mode for train\n",
    "categorical_cols = train_record.select_dtypes(include=['object']).columns\n",
    "for col in categorical_cols:\n",
    "    train_record[col] = train_record[col].fillna(train_record[col].mode()[0])"
   ]
  },
  {
   "cell_type": "code",
   "execution_count": 20,
   "metadata": {
    "execution": {
     "iopub.execute_input": "2025-09-10T09:52:57.344992Z",
     "iopub.status.busy": "2025-09-10T09:52:57.344741Z",
     "iopub.status.idle": "2025-09-10T09:52:57.586070Z",
     "shell.execute_reply": "2025-09-10T09:52:57.585453Z",
     "shell.execute_reply.started": "2025-09-10T09:52:57.344966Z"
    },
    "trusted": true
   },
   "outputs": [],
   "source": [
    "# Fill missing numeric values with the median for test\n",
    "numeric_cols = test_record.select_dtypes(include=['float64', 'int64']).columns\n",
    "test_record[numeric_cols] = test_record[numeric_cols].fillna(test_record[numeric_cols].median())\n",
    "\n",
    "# Fill missing categorical values with the mode for test\n",
    "categorical_cols = test_record.select_dtypes(include=['object']).columns\n",
    "for col in categorical_cols:\n",
    "    test_record[col] = test_record[col].fillna(test_record[col].mode()[0])"
   ]
  },
  {
   "cell_type": "code",
   "execution_count": 21,
   "metadata": {
    "execution": {
     "iopub.execute_input": "2025-09-10T09:52:57.587054Z",
     "iopub.status.busy": "2025-09-10T09:52:57.586813Z",
     "iopub.status.idle": "2025-09-10T09:52:57.684359Z",
     "shell.execute_reply": "2025-09-10T09:52:57.683747Z",
     "shell.execute_reply.started": "2025-09-10T09:52:57.587037Z"
    },
    "trusted": true
   },
   "outputs": [
    {
     "name": "stdout",
     "output_type": "stream",
     "text": [
      "Remaining missing values:\n",
      " ID                          0\n",
      "Customer_ID                 0\n",
      "Month                       0\n",
      "Name                        0\n",
      "Age                         0\n",
      "SSN                         0\n",
      "Occupation                  0\n",
      "Annual_Income               0\n",
      "Monthly_Inhand_Salary       0\n",
      "Num_Bank_Accounts           0\n",
      "Num_Credit_Card             0\n",
      "Interest_Rate               0\n",
      "Num_of_Loan                 0\n",
      "Type_of_Loan                0\n",
      "Delay_from_due_date         0\n",
      "Num_of_Delayed_Payment      0\n",
      "Changed_Credit_Limit        0\n",
      "Num_Credit_Inquiries        0\n",
      "Credit_Mix                  0\n",
      "Outstanding_Debt            0\n",
      "Credit_Utilization_Ratio    0\n",
      "Credit_History_Age          0\n",
      "Payment_of_Min_Amount       0\n",
      "Total_EMI_per_month         0\n",
      "Amount_invested_monthly     0\n",
      "Payment_Behaviour           0\n",
      "Monthly_Balance             0\n",
      "Credit_Score                0\n",
      "dtype: int64\n"
     ]
    }
   ],
   "source": [
    "# Verify there are no remaining missing values from train\n",
    "print(\"Remaining missing values:\\n\", train_record.isnull().sum())"
   ]
  },
  {
   "cell_type": "code",
   "execution_count": 22,
   "metadata": {
    "execution": {
     "iopub.execute_input": "2025-09-10T09:52:57.685318Z",
     "iopub.status.busy": "2025-09-10T09:52:57.685105Z",
     "iopub.status.idle": "2025-09-10T09:52:57.732454Z",
     "shell.execute_reply": "2025-09-10T09:52:57.731924Z",
     "shell.execute_reply.started": "2025-09-10T09:52:57.685302Z"
    },
    "trusted": true
   },
   "outputs": [
    {
     "name": "stdout",
     "output_type": "stream",
     "text": [
      "Remaining missing values:\n",
      " ID                          0\n",
      "Customer_ID                 0\n",
      "Month                       0\n",
      "Name                        0\n",
      "Age                         0\n",
      "SSN                         0\n",
      "Occupation                  0\n",
      "Annual_Income               0\n",
      "Monthly_Inhand_Salary       0\n",
      "Num_Bank_Accounts           0\n",
      "Num_Credit_Card             0\n",
      "Interest_Rate               0\n",
      "Num_of_Loan                 0\n",
      "Type_of_Loan                0\n",
      "Delay_from_due_date         0\n",
      "Num_of_Delayed_Payment      0\n",
      "Changed_Credit_Limit        0\n",
      "Num_Credit_Inquiries        0\n",
      "Credit_Mix                  0\n",
      "Outstanding_Debt            0\n",
      "Credit_Utilization_Ratio    0\n",
      "Credit_History_Age          0\n",
      "Payment_of_Min_Amount       0\n",
      "Total_EMI_per_month         0\n",
      "Amount_invested_monthly     0\n",
      "Payment_Behaviour           0\n",
      "Monthly_Balance             0\n",
      "dtype: int64\n"
     ]
    }
   ],
   "source": [
    "# Verify there are no remaining missing values from test\n",
    "print(\"Remaining missing values:\\n\", test_record.isnull().sum())"
   ]
  },
  {
   "cell_type": "code",
   "execution_count": 23,
   "metadata": {
    "execution": {
     "iopub.execute_input": "2025-09-10T09:52:57.733293Z",
     "iopub.status.busy": "2025-09-10T09:52:57.733058Z",
     "iopub.status.idle": "2025-09-10T09:52:57.742823Z",
     "shell.execute_reply": "2025-09-10T09:52:57.742068Z",
     "shell.execute_reply.started": "2025-09-10T09:52:57.733266Z"
    },
    "trusted": true
   },
   "outputs": [
    {
     "name": "stdout",
     "output_type": "stream",
     "text": [
      "\n",
      "Unique values in the 'Credit_Score' column:\n",
      "Credit_Score\n",
      "Standard    53174\n",
      "Poor        28998\n",
      "Good        17828\n",
      "Name: count, dtype: int64\n"
     ]
    }
   ],
   "source": [
    "# Identify the target variable ---\n",
    "# Based on the problem description, the target variable (or 'label') is 'Credit_Score'.\n",
    "# Let's check the unique values and their counts in this column.\n",
    "print(\"\\nUnique values in the 'Credit_Score' column:\")\n",
    "print(train_record['Credit_Score'].value_counts())"
   ]
  },
  {
   "cell_type": "code",
   "execution_count": 24,
   "metadata": {
    "execution": {
     "iopub.execute_input": "2025-09-10T09:52:57.743700Z",
     "iopub.status.busy": "2025-09-10T09:52:57.743526Z",
     "iopub.status.idle": "2025-09-10T09:52:57.757470Z",
     "shell.execute_reply": "2025-09-10T09:52:57.756780Z",
     "shell.execute_reply.started": "2025-09-10T09:52:57.743686Z"
    },
    "trusted": true
   },
   "outputs": [],
   "source": [
    "# Encode the categorical labels ---\n",
    "# Machine learning models require numerical input. The 'Credit_Score' labels\n",
    "# ('Good', 'Standard', 'Poor') are categorical strings. We need to convert them\n",
    "# into numerical representations. Label Encoding is a suitable method here.\n",
    "# 'LabelEncoder' assigns a unique integer to each unique category.\n",
    "\n",
    "# Initialize the LabelEncoder\n",
    "label_encoder = LabelEncoder()"
   ]
  },
  {
   "cell_type": "code",
   "execution_count": 25,
   "metadata": {
    "execution": {
     "iopub.execute_input": "2025-09-10T09:52:57.758516Z",
     "iopub.status.busy": "2025-09-10T09:52:57.758196Z",
     "iopub.status.idle": "2025-09-10T09:52:57.785667Z",
     "shell.execute_reply": "2025-09-10T09:52:57.784955Z",
     "shell.execute_reply.started": "2025-09-10T09:52:57.758492Z"
    },
    "trusted": true
   },
   "outputs": [],
   "source": [
    "# Fit the encoder to the 'Credit_Score' column and transform the labels\n",
    "train_record['Credit_Score_Encoded'] = label_encoder.fit_transform(train_record['Credit_Score'])"
   ]
  },
  {
   "cell_type": "code",
   "execution_count": 26,
   "metadata": {
    "execution": {
     "iopub.execute_input": "2025-09-10T09:52:57.786451Z",
     "iopub.status.busy": "2025-09-10T09:52:57.786274Z",
     "iopub.status.idle": "2025-09-10T09:52:57.806764Z",
     "shell.execute_reply": "2025-09-10T09:52:57.806244Z",
     "shell.execute_reply.started": "2025-09-10T09:52:57.786437Z"
    },
    "trusted": true
   },
   "outputs": [
    {
     "name": "stdout",
     "output_type": "stream",
     "text": [
      "\n",
      "Label Encoding Mapping:\n",
      "{'Good': 0, 'Poor': 1, 'Standard': 2}\n"
     ]
    }
   ],
   "source": [
    "# Show the mapping from original labels to encoded integers\n",
    "label_mapping = dict(zip(label_encoder.classes_, label_encoder.transform(label_encoder.classes_)))\n",
    "print(\"\\nLabel Encoding Mapping:\")\n",
    "print(label_mapping)"
   ]
  },
  {
   "cell_type": "code",
   "execution_count": 27,
   "metadata": {
    "execution": {
     "iopub.execute_input": "2025-09-10T09:52:57.807711Z",
     "iopub.status.busy": "2025-09-10T09:52:57.807477Z",
     "iopub.status.idle": "2025-09-10T09:52:57.827511Z",
     "shell.execute_reply": "2025-09-10T09:52:57.826963Z",
     "shell.execute_reply.started": "2025-09-10T09:52:57.807696Z"
    },
    "trusted": true
   },
   "outputs": [
    {
     "name": "stdout",
     "output_type": "stream",
     "text": [
      "\n",
      "First 5 rows of the DataFrame with the new encoded label:\n",
      "  Credit_Score  Credit_Score_Encoded\n",
      "0         Good                     0\n",
      "1         Good                     0\n",
      "2         Good                     0\n",
      "3         Good                     0\n",
      "4         Good                     0\n"
     ]
    }
   ],
   "source": [
    "# Display the first few rows with the new encoded column to verify the transformation\n",
    "print(\"\\nFirst 5 rows of the DataFrame with the new encoded label:\")\n",
    "print(train_record[['Credit_Score', 'Credit_Score_Encoded']].head())"
   ]
  },
  {
   "cell_type": "code",
   "execution_count": 28,
   "metadata": {
    "execution": {
     "iopub.execute_input": "2025-09-10T09:52:57.831472Z",
     "iopub.status.busy": "2025-09-10T09:52:57.831299Z",
     "iopub.status.idle": "2025-09-10T09:52:57.845089Z",
     "shell.execute_reply": "2025-09-10T09:52:57.844480Z",
     "shell.execute_reply.started": "2025-09-10T09:52:57.831460Z"
    },
    "trusted": true
   },
   "outputs": [
    {
     "name": "stdout",
     "output_type": "stream",
     "text": [
      "\n",
      "Last 5 rows of the DataFrame with the new encoded label:\n",
      "      Credit_Score  Credit_Score_Encoded\n",
      "99995         Poor                     1\n",
      "99996         Poor                     1\n",
      "99997         Poor                     1\n",
      "99998     Standard                     2\n",
      "99999         Poor                     1\n"
     ]
    }
   ],
   "source": [
    "# Display the last few rows with the new encoded column to verify the transformation\n",
    "print(\"\\nLast 5 rows of the DataFrame with the new encoded label:\")\n",
    "print(train_record[['Credit_Score', 'Credit_Score_Encoded']].tail())"
   ]
  },
  {
   "cell_type": "code",
   "execution_count": 29,
   "metadata": {
    "execution": {
     "iopub.execute_input": "2025-09-10T09:52:57.845902Z",
     "iopub.status.busy": "2025-09-10T09:52:57.845704Z",
     "iopub.status.idle": "2025-09-10T09:52:57.872475Z",
     "shell.execute_reply": "2025-09-10T09:52:57.871934Z",
     "shell.execute_reply.started": "2025-09-10T09:52:57.845888Z"
    },
    "trusted": true
   },
   "outputs": [],
   "source": [
    "# Prepare data for model training ---\n",
    "# Separate the features (X) from the labels (y)\n",
    "# 'Credit_Score' is the original string label, and 'Credit_Score_Encoded' is the numerical one.\n",
    "# 'ID' and 'Customer_ID' are identifiers and should be dropped. 'Credit_Score' is the original label and should be dropped from features.\n",
    "x = train_record.drop(columns=['ID', 'Customer_ID', 'Name','SSN','Credit_Score', 'Credit_Score_Encoded']) # features\n",
    "y = train_record['Credit_Score_Encoded'] # labels\n"
   ]
  },
  {
   "cell_type": "code",
   "execution_count": 30,
   "metadata": {
    "execution": {
     "iopub.execute_input": "2025-09-10T09:52:57.873768Z",
     "iopub.status.busy": "2025-09-10T09:52:57.873244Z",
     "iopub.status.idle": "2025-09-10T09:52:57.879093Z",
     "shell.execute_reply": "2025-09-10T09:52:57.878416Z",
     "shell.execute_reply.started": "2025-09-10T09:52:57.873743Z"
    },
    "trusted": true
   },
   "outputs": [
    {
     "name": "stdout",
     "output_type": "stream",
     "text": [
      "\n",
      "Shape of the features matrix (X): (100000, 23)\n",
      "Shape of the labels vector (y): (100000,)\n",
      "\n",
      "Labels are now ready for model training!\n"
     ]
    }
   ],
   "source": [
    "print(\"\\nShape of the features matrix (X):\", x.shape)\n",
    "print(\"Shape of the labels vector (y):\", y.shape)\n",
    "print(\"\\nLabels are now ready for model training!\")"
   ]
  },
  {
   "cell_type": "code",
   "execution_count": 31,
   "metadata": {
    "execution": {
     "iopub.execute_input": "2025-09-10T09:52:57.880060Z",
     "iopub.status.busy": "2025-09-10T09:52:57.879783Z",
     "iopub.status.idle": "2025-09-10T09:52:57.961857Z",
     "shell.execute_reply": "2025-09-10T09:52:57.961092Z",
     "shell.execute_reply.started": "2025-09-10T09:52:57.880039Z"
    },
    "trusted": true
   },
   "outputs": [],
   "source": [
    "# Split the data *before* preprocessing ---\n",
    "# We split the original, unprocessed data to save memory.\n",
    "X_train, X_val, y_train, y_val = train_test_split(\n",
    "    x,\n",
    "    y,\n",
    "    test_size=0.2,\n",
    "    random_state=42,\n",
    "    stratify=y\n",
    ")"
   ]
  },
  {
   "cell_type": "code",
   "execution_count": 32,
   "metadata": {
    "execution": {
     "iopub.execute_input": "2025-09-10T09:52:57.962869Z",
     "iopub.status.busy": "2025-09-10T09:52:57.962605Z",
     "iopub.status.idle": "2025-09-10T09:52:57.967482Z",
     "shell.execute_reply": "2025-09-10T09:52:57.966707Z",
     "shell.execute_reply.started": "2025-09-10T09:52:57.962843Z"
    },
    "trusted": true
   },
   "outputs": [
    {
     "name": "stdout",
     "output_type": "stream",
     "text": [
      "\n",
      "Data has been successfully split into training and validation sets.\n",
      "X_train shape: (80000, 23)\n",
      "y_train shape: (80000,)\n",
      "X_val shape:   (20000, 23)\n",
      "y_val shape:   (20000,)\n"
     ]
    }
   ],
   "source": [
    "print(\"\\nData has been successfully split into training and validation sets.\")\n",
    "print(f\"X_train shape: {X_train.shape}\")\n",
    "print(f\"y_train shape: {y_train.shape}\")\n",
    "print(f\"X_val shape:   {X_val.shape}\")\n",
    "print(f\"y_val shape:   {y_val.shape}\")"
   ]
  },
  {
   "cell_type": "code",
   "execution_count": 33,
   "metadata": {
    "execution": {
     "iopub.execute_input": "2025-09-10T09:52:57.968259Z",
     "iopub.status.busy": "2025-09-10T09:52:57.968085Z",
     "iopub.status.idle": "2025-09-10T09:52:58.064532Z",
     "shell.execute_reply": "2025-09-10T09:52:58.063746Z",
     "shell.execute_reply.started": "2025-09-10T09:52:57.968245Z"
    },
    "trusted": true
   },
   "outputs": [
    {
     "name": "stdout",
     "output_type": "stream",
     "text": [
      "\n",
      "Categorical features identified: ['Month', 'Age', 'Occupation', 'Annual_Income', 'Num_of_Loan', 'Type_of_Loan', 'Num_of_Delayed_Payment', 'Changed_Credit_Limit', 'Credit_Mix', 'Outstanding_Debt', 'Credit_History_Age', 'Payment_of_Min_Amount', 'Amount_invested_monthly', 'Payment_Behaviour']\n",
      "Numerical features identified: ['Monthly_Inhand_Salary', 'Num_Bank_Accounts', 'Num_Credit_Card', 'Interest_Rate', 'Delay_from_due_date', 'Num_Credit_Inquiries', 'Credit_Utilization_Ratio', 'Total_EMI_per_month', 'Monthly_Balance']\n"
     ]
    }
   ],
   "source": [
    "# Identify categorical and numerical features ---\n",
    "# We need to distinguish between columns we'll one-hot encode and columns we'll pass through.\n",
    "categorical_features = x.select_dtypes(include=['object']).columns\n",
    "numerical_features = x.select_dtypes(include=['int64', 'float64']).columns\n",
    "\n",
    "print(f\"\\nCategorical features identified: {list(categorical_features)}\")\n",
    "print(f\"Numerical features identified: {list(numerical_features)}\")"
   ]
  },
  {
   "cell_type": "code",
   "execution_count": 34,
   "metadata": {
    "execution": {
     "iopub.execute_input": "2025-09-10T09:52:58.066123Z",
     "iopub.status.busy": "2025-09-10T09:52:58.065428Z",
     "iopub.status.idle": "2025-09-10T09:52:58.082749Z",
     "shell.execute_reply": "2025-09-10T09:52:58.082039Z",
     "shell.execute_reply.started": "2025-09-10T09:52:58.066092Z"
    },
    "trusted": true
   },
   "outputs": [],
   "source": [
    "# Create a memory-efficient preprocessing pipeline ---\n",
    "# Use sparse_output=True in OneHotEncoder to save memory.\n",
    "from sklearn.compose import ColumnTransformer\n",
    "preprocessor = ColumnTransformer(\n",
    "    transformers=[\n",
    "        # Apply OneHotEncoder to the categorical features\n",
    "        ('onehot', OneHotEncoder(handle_unknown='ignore', sparse_output=True), categorical_features),\n",
    "        # Apply MinMaxScaler to the numerical features\n",
    "        ('scaler', MinMaxScaler(), numerical_features)\n",
    "    ],\n",
    "    remainder='drop' # Drop any other columns not specified\n",
    ")\n"
   ]
  },
  {
   "cell_type": "code",
   "execution_count": 35,
   "metadata": {
    "execution": {
     "iopub.execute_input": "2025-09-10T09:52:58.083555Z",
     "iopub.status.busy": "2025-09-10T09:52:58.083384Z",
     "iopub.status.idle": "2025-09-10T09:52:58.851787Z",
     "shell.execute_reply": "2025-09-10T09:52:58.851248Z",
     "shell.execute_reply.started": "2025-09-10T09:52:58.083541Z"
    },
    "trusted": true
   },
   "outputs": [],
   "source": [
    "# Apply preprocessing to the split data ---\n",
    "# We fit the preprocessor on the training data. This learns the min/max values and\n",
    "# the categories from the training set only.\n",
    "X_train_processed = preprocessor.fit_transform(X_train)\n",
    "\n",
    "# We then transform the validation set using the parameters learned from the training set.\n",
    "# This prevents data leakage and ensures the validation data is processed correctly.\n",
    "X_val_processed = preprocessor.transform(X_val)\n",
    "\n"
   ]
  },
  {
   "cell_type": "code",
   "execution_count": 36,
   "metadata": {
    "execution": {
     "iopub.execute_input": "2025-09-10T09:52:58.852810Z",
     "iopub.status.busy": "2025-09-10T09:52:58.852577Z",
     "iopub.status.idle": "2025-09-10T09:53:02.053843Z",
     "shell.execute_reply": "2025-09-10T09:53:02.053294Z",
     "shell.execute_reply.started": "2025-09-10T09:52:58.852792Z"
    },
    "trusted": true
   },
   "outputs": [
    {
     "name": "stderr",
     "output_type": "stream",
     "text": [
      "/usr/local/lib/python3.11/dist-packages/keras/src/layers/core/dense.py:87: UserWarning: Do not pass an `input_shape`/`input_dim` argument to a layer. When using Sequential models, prefer using an `Input(shape)` object as the first layer in the model instead.\n",
      "  super().__init__(activity_regularizer=activity_regularizer, **kwargs)\n",
      "I0000 00:00:1757497980.495243      83 gpu_device.cc:2022] Created device /job:localhost/replica:0/task:0/device:GPU:0 with 13942 MB memory:  -> device: 0, name: Tesla T4, pci bus id: 0000:00:04.0, compute capability: 7.5\n",
      "I0000 00:00:1757497980.495902      83 gpu_device.cc:2022] Created device /job:localhost/replica:0/task:0/device:GPU:1 with 13942 MB memory:  -> device: 1, name: Tesla T4, pci bus id: 0000:00:05.0, compute capability: 7.5\n"
     ]
    }
   ],
   "source": [
    "# Build the sequential model\n",
    "from tensorflow.keras.regularizers import l2\n",
    "model = Sequential([\n",
    "    Dense(64, activation='relu', input_shape=(X_train_processed.shape[1],), kernel_regularizer=l2(0.001)),\n",
    "    Dropout(0.4),\n",
    "    Dense(32, activation='relu', kernel_regularizer=l2(0.001)),\n",
    "    Dropout(0.4),\n",
    "    Dense(16, activation='relu', kernel_regularizer=l2(0.001)),\n",
    "    Dropout(0.3),\n",
    "    Dense(8, activation='relu', kernel_regularizer=l2(0.001)),\n",
    "    Dropout(0.2),\n",
    "    Dense(3, activation='softmax')\n",
    "])"
   ]
  },
  {
   "cell_type": "code",
   "execution_count": 37,
   "metadata": {
    "execution": {
     "iopub.execute_input": "2025-09-10T09:53:02.054822Z",
     "iopub.status.busy": "2025-09-10T09:53:02.054564Z",
     "iopub.status.idle": "2025-09-10T09:53:02.079511Z",
     "shell.execute_reply": "2025-09-10T09:53:02.078965Z",
     "shell.execute_reply.started": "2025-09-10T09:53:02.054799Z"
    },
    "trusted": true
   },
   "outputs": [
    {
     "data": {
      "text/html": [
       "<pre style=\"white-space:pre;overflow-x:auto;line-height:normal;font-family:Menlo,'DejaVu Sans Mono',consolas,'Courier New',monospace\"><span style=\"font-weight: bold\">Model: \"sequential\"</span>\n",
       "</pre>\n"
      ],
      "text/plain": [
       "\u001b[1mModel: \"sequential\"\u001b[0m\n"
      ]
     },
     "metadata": {},
     "output_type": "display_data"
    },
    {
     "data": {
      "text/html": [
       "<pre style=\"white-space:pre;overflow-x:auto;line-height:normal;font-family:Menlo,'DejaVu Sans Mono',consolas,'Courier New',monospace\">┏━━━━━━━━━━━━━━━━━━━━━━━━━━━━━━━━━┳━━━━━━━━━━━━━━━━━━━━━━━━┳━━━━━━━━━━━━━━━┓\n",
       "┃<span style=\"font-weight: bold\"> Layer (type)                    </span>┃<span style=\"font-weight: bold\"> Output Shape           </span>┃<span style=\"font-weight: bold\">       Param # </span>┃\n",
       "┡━━━━━━━━━━━━━━━━━━━━━━━━━━━━━━━━━╇━━━━━━━━━━━━━━━━━━━━━━━━╇━━━━━━━━━━━━━━━┩\n",
       "│ dense (<span style=\"color: #0087ff; text-decoration-color: #0087ff\">Dense</span>)                   │ (<span style=\"color: #00d7ff; text-decoration-color: #00d7ff\">None</span>, <span style=\"color: #00af00; text-decoration-color: #00af00\">64</span>)             │     <span style=\"color: #00af00; text-decoration-color: #00af00\">7,486,976</span> │\n",
       "├─────────────────────────────────┼────────────────────────┼───────────────┤\n",
       "│ dropout (<span style=\"color: #0087ff; text-decoration-color: #0087ff\">Dropout</span>)               │ (<span style=\"color: #00d7ff; text-decoration-color: #00d7ff\">None</span>, <span style=\"color: #00af00; text-decoration-color: #00af00\">64</span>)             │             <span style=\"color: #00af00; text-decoration-color: #00af00\">0</span> │\n",
       "├─────────────────────────────────┼────────────────────────┼───────────────┤\n",
       "│ dense_1 (<span style=\"color: #0087ff; text-decoration-color: #0087ff\">Dense</span>)                 │ (<span style=\"color: #00d7ff; text-decoration-color: #00d7ff\">None</span>, <span style=\"color: #00af00; text-decoration-color: #00af00\">32</span>)             │         <span style=\"color: #00af00; text-decoration-color: #00af00\">2,080</span> │\n",
       "├─────────────────────────────────┼────────────────────────┼───────────────┤\n",
       "│ dropout_1 (<span style=\"color: #0087ff; text-decoration-color: #0087ff\">Dropout</span>)             │ (<span style=\"color: #00d7ff; text-decoration-color: #00d7ff\">None</span>, <span style=\"color: #00af00; text-decoration-color: #00af00\">32</span>)             │             <span style=\"color: #00af00; text-decoration-color: #00af00\">0</span> │\n",
       "├─────────────────────────────────┼────────────────────────┼───────────────┤\n",
       "│ dense_2 (<span style=\"color: #0087ff; text-decoration-color: #0087ff\">Dense</span>)                 │ (<span style=\"color: #00d7ff; text-decoration-color: #00d7ff\">None</span>, <span style=\"color: #00af00; text-decoration-color: #00af00\">16</span>)             │           <span style=\"color: #00af00; text-decoration-color: #00af00\">528</span> │\n",
       "├─────────────────────────────────┼────────────────────────┼───────────────┤\n",
       "│ dropout_2 (<span style=\"color: #0087ff; text-decoration-color: #0087ff\">Dropout</span>)             │ (<span style=\"color: #00d7ff; text-decoration-color: #00d7ff\">None</span>, <span style=\"color: #00af00; text-decoration-color: #00af00\">16</span>)             │             <span style=\"color: #00af00; text-decoration-color: #00af00\">0</span> │\n",
       "├─────────────────────────────────┼────────────────────────┼───────────────┤\n",
       "│ dense_3 (<span style=\"color: #0087ff; text-decoration-color: #0087ff\">Dense</span>)                 │ (<span style=\"color: #00d7ff; text-decoration-color: #00d7ff\">None</span>, <span style=\"color: #00af00; text-decoration-color: #00af00\">8</span>)              │           <span style=\"color: #00af00; text-decoration-color: #00af00\">136</span> │\n",
       "├─────────────────────────────────┼────────────────────────┼───────────────┤\n",
       "│ dropout_3 (<span style=\"color: #0087ff; text-decoration-color: #0087ff\">Dropout</span>)             │ (<span style=\"color: #00d7ff; text-decoration-color: #00d7ff\">None</span>, <span style=\"color: #00af00; text-decoration-color: #00af00\">8</span>)              │             <span style=\"color: #00af00; text-decoration-color: #00af00\">0</span> │\n",
       "├─────────────────────────────────┼────────────────────────┼───────────────┤\n",
       "│ dense_4 (<span style=\"color: #0087ff; text-decoration-color: #0087ff\">Dense</span>)                 │ (<span style=\"color: #00d7ff; text-decoration-color: #00d7ff\">None</span>, <span style=\"color: #00af00; text-decoration-color: #00af00\">3</span>)              │            <span style=\"color: #00af00; text-decoration-color: #00af00\">27</span> │\n",
       "└─────────────────────────────────┴────────────────────────┴───────────────┘\n",
       "</pre>\n"
      ],
      "text/plain": [
       "┏━━━━━━━━━━━━━━━━━━━━━━━━━━━━━━━━━┳━━━━━━━━━━━━━━━━━━━━━━━━┳━━━━━━━━━━━━━━━┓\n",
       "┃\u001b[1m \u001b[0m\u001b[1mLayer (type)                   \u001b[0m\u001b[1m \u001b[0m┃\u001b[1m \u001b[0m\u001b[1mOutput Shape          \u001b[0m\u001b[1m \u001b[0m┃\u001b[1m \u001b[0m\u001b[1m      Param #\u001b[0m\u001b[1m \u001b[0m┃\n",
       "┡━━━━━━━━━━━━━━━━━━━━━━━━━━━━━━━━━╇━━━━━━━━━━━━━━━━━━━━━━━━╇━━━━━━━━━━━━━━━┩\n",
       "│ dense (\u001b[38;5;33mDense\u001b[0m)                   │ (\u001b[38;5;45mNone\u001b[0m, \u001b[38;5;34m64\u001b[0m)             │     \u001b[38;5;34m7,486,976\u001b[0m │\n",
       "├─────────────────────────────────┼────────────────────────┼───────────────┤\n",
       "│ dropout (\u001b[38;5;33mDropout\u001b[0m)               │ (\u001b[38;5;45mNone\u001b[0m, \u001b[38;5;34m64\u001b[0m)             │             \u001b[38;5;34m0\u001b[0m │\n",
       "├─────────────────────────────────┼────────────────────────┼───────────────┤\n",
       "│ dense_1 (\u001b[38;5;33mDense\u001b[0m)                 │ (\u001b[38;5;45mNone\u001b[0m, \u001b[38;5;34m32\u001b[0m)             │         \u001b[38;5;34m2,080\u001b[0m │\n",
       "├─────────────────────────────────┼────────────────────────┼───────────────┤\n",
       "│ dropout_1 (\u001b[38;5;33mDropout\u001b[0m)             │ (\u001b[38;5;45mNone\u001b[0m, \u001b[38;5;34m32\u001b[0m)             │             \u001b[38;5;34m0\u001b[0m │\n",
       "├─────────────────────────────────┼────────────────────────┼───────────────┤\n",
       "│ dense_2 (\u001b[38;5;33mDense\u001b[0m)                 │ (\u001b[38;5;45mNone\u001b[0m, \u001b[38;5;34m16\u001b[0m)             │           \u001b[38;5;34m528\u001b[0m │\n",
       "├─────────────────────────────────┼────────────────────────┼───────────────┤\n",
       "│ dropout_2 (\u001b[38;5;33mDropout\u001b[0m)             │ (\u001b[38;5;45mNone\u001b[0m, \u001b[38;5;34m16\u001b[0m)             │             \u001b[38;5;34m0\u001b[0m │\n",
       "├─────────────────────────────────┼────────────────────────┼───────────────┤\n",
       "│ dense_3 (\u001b[38;5;33mDense\u001b[0m)                 │ (\u001b[38;5;45mNone\u001b[0m, \u001b[38;5;34m8\u001b[0m)              │           \u001b[38;5;34m136\u001b[0m │\n",
       "├─────────────────────────────────┼────────────────────────┼───────────────┤\n",
       "│ dropout_3 (\u001b[38;5;33mDropout\u001b[0m)             │ (\u001b[38;5;45mNone\u001b[0m, \u001b[38;5;34m8\u001b[0m)              │             \u001b[38;5;34m0\u001b[0m │\n",
       "├─────────────────────────────────┼────────────────────────┼───────────────┤\n",
       "│ dense_4 (\u001b[38;5;33mDense\u001b[0m)                 │ (\u001b[38;5;45mNone\u001b[0m, \u001b[38;5;34m3\u001b[0m)              │            \u001b[38;5;34m27\u001b[0m │\n",
       "└─────────────────────────────────┴────────────────────────┴───────────────┘\n"
      ]
     },
     "metadata": {},
     "output_type": "display_data"
    },
    {
     "data": {
      "text/html": [
       "<pre style=\"white-space:pre;overflow-x:auto;line-height:normal;font-family:Menlo,'DejaVu Sans Mono',consolas,'Courier New',monospace\"><span style=\"font-weight: bold\"> Total params: </span><span style=\"color: #00af00; text-decoration-color: #00af00\">7,489,747</span> (28.57 MB)\n",
       "</pre>\n"
      ],
      "text/plain": [
       "\u001b[1m Total params: \u001b[0m\u001b[38;5;34m7,489,747\u001b[0m (28.57 MB)\n"
      ]
     },
     "metadata": {},
     "output_type": "display_data"
    },
    {
     "data": {
      "text/html": [
       "<pre style=\"white-space:pre;overflow-x:auto;line-height:normal;font-family:Menlo,'DejaVu Sans Mono',consolas,'Courier New',monospace\"><span style=\"font-weight: bold\"> Trainable params: </span><span style=\"color: #00af00; text-decoration-color: #00af00\">7,489,747</span> (28.57 MB)\n",
       "</pre>\n"
      ],
      "text/plain": [
       "\u001b[1m Trainable params: \u001b[0m\u001b[38;5;34m7,489,747\u001b[0m (28.57 MB)\n"
      ]
     },
     "metadata": {},
     "output_type": "display_data"
    },
    {
     "data": {
      "text/html": [
       "<pre style=\"white-space:pre;overflow-x:auto;line-height:normal;font-family:Menlo,'DejaVu Sans Mono',consolas,'Courier New',monospace\"><span style=\"font-weight: bold\"> Non-trainable params: </span><span style=\"color: #00af00; text-decoration-color: #00af00\">0</span> (0.00 B)\n",
       "</pre>\n"
      ],
      "text/plain": [
       "\u001b[1m Non-trainable params: \u001b[0m\u001b[38;5;34m0\u001b[0m (0.00 B)\n"
      ]
     },
     "metadata": {},
     "output_type": "display_data"
    }
   ],
   "source": [
    "# Compile the model\n",
    "model.compile(optimizer='adam',\n",
    "              loss='sparse_categorical_crossentropy',\n",
    "              metrics=['accuracy'])\n",
    "\n",
    "model.summary()"
   ]
  },
  {
   "cell_type": "code",
   "execution_count": 38,
   "metadata": {
    "execution": {
     "iopub.execute_input": "2025-09-10T09:53:02.080691Z",
     "iopub.status.busy": "2025-09-10T09:53:02.080435Z",
     "iopub.status.idle": "2025-09-10T09:53:02.084058Z",
     "shell.execute_reply": "2025-09-10T09:53:02.083484Z",
     "shell.execute_reply.started": "2025-09-10T09:53:02.080672Z"
    },
    "trusted": true
   },
   "outputs": [],
   "source": [
    "# Define EarlyStopping callback\n",
    "early_stopping = EarlyStopping(monitor='val_loss', patience=5, restore_best_weights=True)"
   ]
  },
  {
   "cell_type": "code",
   "execution_count": 39,
   "metadata": {
    "execution": {
     "iopub.execute_input": "2025-09-10T09:53:02.084878Z",
     "iopub.status.busy": "2025-09-10T09:53:02.084673Z",
     "iopub.status.idle": "2025-09-10T09:57:39.901196Z",
     "shell.execute_reply": "2025-09-10T09:57:39.900610Z",
     "shell.execute_reply.started": "2025-09-10T09:53:02.084862Z"
    },
    "trusted": true
   },
   "outputs": [
    {
     "name": "stdout",
     "output_type": "stream",
     "text": [
      "Epoch 1/50\n"
     ]
    },
    {
     "name": "stderr",
     "output_type": "stream",
     "text": [
      "WARNING: All log messages before absl::InitializeLog() is called are written to STDERR\n",
      "I0000 00:00:1757497984.972577     138 service.cc:148] XLA service 0x7e9528005db0 initialized for platform CUDA (this does not guarantee that XLA will be used). Devices:\n",
      "I0000 00:00:1757497984.973824     138 service.cc:156]   StreamExecutor device (0): Tesla T4, Compute Capability 7.5\n",
      "I0000 00:00:1757497984.973846     138 service.cc:156]   StreamExecutor device (1): Tesla T4, Compute Capability 7.5\n",
      "I0000 00:00:1757497985.327299     138 cuda_dnn.cc:529] Loaded cuDNN version 90300\n"
     ]
    },
    {
     "name": "stdout",
     "output_type": "stream",
     "text": [
      "\u001b[1m   1/2500\u001b[0m \u001b[37m━━━━━━━━━━━━━━━━━━━━\u001b[0m \u001b[1m4:03:34\u001b[0m 6s/step - accuracy: 0.2500 - loss: 1.3038"
     ]
    },
    {
     "name": "stderr",
     "output_type": "stream",
     "text": [
      "I0000 00:00:1757497988.332818     138 device_compiler.h:188] Compiled cluster using XLA!  This line is logged at most once for the lifetime of the process.\n"
     ]
    },
    {
     "name": "stdout",
     "output_type": "stream",
     "text": [
      "\u001b[1m2500/2500\u001b[0m \u001b[32m━━━━━━━━━━━━━━━━━━━━\u001b[0m\u001b[37m\u001b[0m \u001b[1m63s\u001b[0m 23ms/step - accuracy: 0.5661 - loss: 0.9693 - val_accuracy: 0.6469 - val_loss: 0.8857\n",
      "Epoch 2/50\n",
      "\u001b[1m2500/2500\u001b[0m \u001b[32m━━━━━━━━━━━━━━━━━━━━\u001b[0m\u001b[37m\u001b[0m \u001b[1m14s\u001b[0m 5ms/step - accuracy: 0.6247 - loss: 0.9195 - val_accuracy: 0.6571 - val_loss: 0.8825\n",
      "Epoch 3/50\n",
      "\u001b[1m2500/2500\u001b[0m \u001b[32m━━━━━━━━━━━━━━━━━━━━\u001b[0m\u001b[37m\u001b[0m \u001b[1m11s\u001b[0m 5ms/step - accuracy: 0.6543 - loss: 0.9142 - val_accuracy: 0.6809 - val_loss: 0.8701\n",
      "Epoch 4/50\n",
      "\u001b[1m2500/2500\u001b[0m \u001b[32m━━━━━━━━━━━━━━━━━━━━\u001b[0m\u001b[37m\u001b[0m \u001b[1m14s\u001b[0m 5ms/step - accuracy: 0.6757 - loss: 0.9090 - val_accuracy: 0.7047 - val_loss: 0.8621\n",
      "Epoch 5/50\n",
      "\u001b[1m2500/2500\u001b[0m \u001b[32m━━━━━━━━━━━━━━━━━━━━\u001b[0m\u001b[37m\u001b[0m \u001b[1m11s\u001b[0m 5ms/step - accuracy: 0.6943 - loss: 0.8933 - val_accuracy: 0.7057 - val_loss: 0.8578\n",
      "Epoch 6/50\n",
      "\u001b[1m2500/2500\u001b[0m \u001b[32m━━━━━━━━━━━━━━━━━━━━\u001b[0m\u001b[37m\u001b[0m \u001b[1m12s\u001b[0m 5ms/step - accuracy: 0.7062 - loss: 0.8838 - val_accuracy: 0.7163 - val_loss: 0.8493\n",
      "Epoch 7/50\n",
      "\u001b[1m2500/2500\u001b[0m \u001b[32m━━━━━━━━━━━━━━━━━━━━\u001b[0m\u001b[37m\u001b[0m \u001b[1m12s\u001b[0m 5ms/step - accuracy: 0.7107 - loss: 0.8778 - val_accuracy: 0.7176 - val_loss: 0.8483\n",
      "Epoch 8/50\n",
      "\u001b[1m2500/2500\u001b[0m \u001b[32m━━━━━━━━━━━━━━━━━━━━\u001b[0m\u001b[37m\u001b[0m \u001b[1m11s\u001b[0m 5ms/step - accuracy: 0.7170 - loss: 0.8734 - val_accuracy: 0.7127 - val_loss: 0.8463\n",
      "Epoch 9/50\n",
      "\u001b[1m2500/2500\u001b[0m \u001b[32m━━━━━━━━━━━━━━━━━━━━\u001b[0m\u001b[37m\u001b[0m \u001b[1m11s\u001b[0m 5ms/step - accuracy: 0.7152 - loss: 0.8739 - val_accuracy: 0.7263 - val_loss: 0.8339\n",
      "Epoch 10/50\n",
      "\u001b[1m2500/2500\u001b[0m \u001b[32m━━━━━━━━━━━━━━━━━━━━\u001b[0m\u001b[37m\u001b[0m \u001b[1m14s\u001b[0m 5ms/step - accuracy: 0.7209 - loss: 0.8657 - val_accuracy: 0.7242 - val_loss: 0.8338\n",
      "Epoch 11/50\n",
      "\u001b[1m2500/2500\u001b[0m \u001b[32m━━━━━━━━━━━━━━━━━━━━\u001b[0m\u001b[37m\u001b[0m \u001b[1m11s\u001b[0m 5ms/step - accuracy: 0.7216 - loss: 0.8672 - val_accuracy: 0.7211 - val_loss: 0.8378\n",
      "Epoch 12/50\n",
      "\u001b[1m2500/2500\u001b[0m \u001b[32m━━━━━━━━━━━━━━━━━━━━\u001b[0m\u001b[37m\u001b[0m \u001b[1m11s\u001b[0m 5ms/step - accuracy: 0.7243 - loss: 0.8625 - val_accuracy: 0.7258 - val_loss: 0.8407\n",
      "Epoch 13/50\n",
      "\u001b[1m2500/2500\u001b[0m \u001b[32m━━━━━━━━━━━━━━━━━━━━\u001b[0m\u001b[37m\u001b[0m \u001b[1m11s\u001b[0m 5ms/step - accuracy: 0.7252 - loss: 0.8635 - val_accuracy: 0.7303 - val_loss: 0.8276\n",
      "Epoch 14/50\n",
      "\u001b[1m2500/2500\u001b[0m \u001b[32m━━━━━━━━━━━━━━━━━━━━\u001b[0m\u001b[37m\u001b[0m \u001b[1m14s\u001b[0m 6ms/step - accuracy: 0.7273 - loss: 0.8593 - val_accuracy: 0.7307 - val_loss: 0.8232\n",
      "Epoch 15/50\n",
      "\u001b[1m2500/2500\u001b[0m \u001b[32m━━━━━━━━━━━━━━━━━━━━\u001b[0m\u001b[37m\u001b[0m \u001b[1m11s\u001b[0m 5ms/step - accuracy: 0.7280 - loss: 0.8580 - val_accuracy: 0.7296 - val_loss: 0.8297\n",
      "Epoch 16/50\n",
      "\u001b[1m2500/2500\u001b[0m \u001b[32m━━━━━━━━━━━━━━━━━━━━\u001b[0m\u001b[37m\u001b[0m \u001b[1m11s\u001b[0m 5ms/step - accuracy: 0.7287 - loss: 0.8568 - val_accuracy: 0.7290 - val_loss: 0.8282\n",
      "Epoch 17/50\n",
      "\u001b[1m2500/2500\u001b[0m \u001b[32m━━━━━━━━━━━━━━━━━━━━\u001b[0m\u001b[37m\u001b[0m \u001b[1m11s\u001b[0m 5ms/step - accuracy: 0.7226 - loss: 0.8570 - val_accuracy: 0.7290 - val_loss: 0.8266\n",
      "Epoch 18/50\n",
      "\u001b[1m2500/2500\u001b[0m \u001b[32m━━━━━━━━━━━━━━━━━━━━\u001b[0m\u001b[37m\u001b[0m \u001b[1m11s\u001b[0m 5ms/step - accuracy: 0.7276 - loss: 0.8531 - val_accuracy: 0.7308 - val_loss: 0.8283\n",
      "Epoch 19/50\n",
      "\u001b[1m2500/2500\u001b[0m \u001b[32m━━━━━━━━━━━━━━━━━━━━\u001b[0m\u001b[37m\u001b[0m \u001b[1m11s\u001b[0m 5ms/step - accuracy: 0.7250 - loss: 0.8566 - val_accuracy: 0.7219 - val_loss: 0.8283\n"
     ]
    }
   ],
   "source": [
    "# Train the model\n",
    "history = model.fit(X_train_processed, y_train,\n",
    "                    epochs=50,\n",
    "                    batch_size=32,\n",
    "                    validation_data=(X_val_processed, y_val),\n",
    "                    callbacks=[early_stopping],\n",
    "                    verbose=1)"
   ]
  },
  {
   "cell_type": "code",
   "execution_count": 40,
   "metadata": {
    "execution": {
     "iopub.execute_input": "2025-09-10T09:57:39.902480Z",
     "iopub.status.busy": "2025-09-10T09:57:39.902223Z",
     "iopub.status.idle": "2025-09-10T09:57:40.282218Z",
     "shell.execute_reply": "2025-09-10T09:57:40.281592Z",
     "shell.execute_reply.started": "2025-09-10T09:57:39.902458Z"
    },
    "trusted": true
   },
   "outputs": [],
   "source": [
    "# Save the trained model \n",
    "KAGGLE_WORKING_PATH = '/kaggle/working/'\n",
    "model.save(os.path.join(KAGGLE_WORKING_PATH, 'credit_score_nn_model.keras'))"
   ]
  },
  {
   "cell_type": "code",
   "execution_count": 41,
   "metadata": {
    "execution": {
     "iopub.execute_input": "2025-09-10T09:57:40.283023Z",
     "iopub.status.busy": "2025-09-10T09:57:40.282816Z",
     "iopub.status.idle": "2025-09-10T09:57:41.860392Z",
     "shell.execute_reply": "2025-09-10T09:57:41.859828Z",
     "shell.execute_reply.started": "2025-09-10T09:57:40.283007Z"
    },
    "trusted": true
   },
   "outputs": [
    {
     "name": "stdout",
     "output_type": "stream",
     "text": [
      "\u001b[1m625/625\u001b[0m \u001b[32m━━━━━━━━━━━━━━━━━━━━\u001b[0m\u001b[37m\u001b[0m \u001b[1m1s\u001b[0m 2ms/step - accuracy: 0.7342 - loss: 0.8157\n",
      "Test Accuracy: 73.07%\n"
     ]
    }
   ],
   "source": [
    "# Evaluate the model\n",
    "loss, accuracy = model.evaluate(X_val_processed, y_val, verbose=1)\n",
    "print(f\"Test Accuracy: {accuracy * 100:.2f}%\")"
   ]
  },
  {
   "cell_type": "code",
   "execution_count": 42,
   "metadata": {
    "execution": {
     "iopub.execute_input": "2025-09-10T09:57:41.861277Z",
     "iopub.status.busy": "2025-09-10T09:57:41.861053Z",
     "iopub.status.idle": "2025-09-10T09:57:42.032583Z",
     "shell.execute_reply": "2025-09-10T09:57:42.031954Z",
     "shell.execute_reply.started": "2025-09-10T09:57:41.861255Z"
    },
    "trusted": true
   },
   "outputs": [
    {
     "data": {
      "image/png": "[encoded data removed]",
      "text/plain": [
       "<Figure size 640x480 with 1 Axes>"
      ]
     },
     "metadata": {},
     "output_type": "display_data"
    }
   ],
   "source": [
    "# Plot training history \n",
    "plt.plot(history.history['accuracy'], label='Train Accuracy')\n",
    "plt.plot(history.history['val_accuracy'], label='Validation Accuracy')\n",
    "plt.xlabel('Epochs')\n",
    "plt.ylabel('Accuracy')\n",
    "plt.legend()\n",
    "plt.title('Training and Validation Accuracy')\n",
    "plt.show()"
   ]
  },
  {
   "cell_type": "code",
   "execution_count": 43,
   "metadata": {
    "execution": {
     "iopub.execute_input": "2025-09-10T09:57:42.033749Z",
     "iopub.status.busy": "2025-09-10T09:57:42.033435Z",
     "iopub.status.idle": "2025-09-10T09:57:42.205568Z",
     "shell.execute_reply": "2025-09-10T09:57:42.204838Z",
     "shell.execute_reply.started": "2025-09-10T09:57:42.033728Z"
    },
    "trusted": true
   },
   "outputs": [
    {
     "data": {
      "image/png": "[encoded data removed]",
      "text/plain": [
       "<Figure size 640x480 with 1 Axes>"
      ]
     },
     "metadata": {},
     "output_type": "display_data"
    }
   ],
   "source": [
    "# Plot training history \n",
    "plt.plot(history.history['loss'], label='Train Loss')\n",
    "plt.plot(history.history['val_loss'], label='Validation Loss')\n",
    "plt.xlabel('Epochs')\n",
    "plt.ylabel('Loss')\n",
    "plt.legend()\n",
    "plt.title('Training and Validation Loss')\n",
    "plt.show()"
   ]
  },
  {
   "cell_type": "code",
   "execution_count": 44,
   "metadata": {
    "execution": {
     "iopub.execute_input": "2025-09-10T09:57:42.207092Z",
     "iopub.status.busy": "2025-09-10T09:57:42.206332Z",
     "iopub.status.idle": "2025-09-10T09:57:47.189588Z",
     "shell.execute_reply": "2025-09-10T09:57:47.188953Z",
     "shell.execute_reply.started": "2025-09-10T09:57:42.207073Z"
    },
    "trusted": true
   },
   "outputs": [
    {
     "name": "stdout",
     "output_type": "stream",
     "text": [
      "\u001b[1m625/625\u001b[0m \u001b[32m━━━━━━━━━━━━━━━━━━━━\u001b[0m\u001b[37m\u001b[0m \u001b[1m5s\u001b[0m 7ms/step\n"
     ]
    },
    {
     "data": {
      "text/plain": [
       "array([1, 1, 1, ..., 2, 0, 1])"
      ]
     },
     "execution_count": 44,
     "metadata": {},
     "output_type": "execute_result"
    }
   ],
   "source": [
    "# y_pred = (model.predict(X_val_processed) > 0.5).astype(int)\n",
    "\n",
    "y_pred_probs = model.predict(X_val_processed)\n",
    "y_pred = np.argmax(y_pred_probs, axis=1)\n",
    "y_pred"
   ]
  },
  {
   "cell_type": "code",
   "execution_count": 45,
   "metadata": {
    "execution": {
     "iopub.execute_input": "2025-09-10T09:57:47.190889Z",
     "iopub.status.busy": "2025-09-10T09:57:47.190595Z",
     "iopub.status.idle": "2025-09-10T09:57:47.206949Z",
     "shell.execute_reply": "2025-09-10T09:57:47.206407Z",
     "shell.execute_reply.started": "2025-09-10T09:57:47.190859Z"
    },
    "trusted": true
   },
   "outputs": [
    {
     "name": "stdout",
     "output_type": "stream",
     "text": [
      "\n",
      "Classification Report \n",
      "              precision    recall  f1-score   support\n",
      "\n",
      "        Good       0.62      0.78      0.69      3566\n",
      "        Poor       0.72      0.75      0.74      5799\n",
      "    Standard       0.79      0.70      0.74     10635\n",
      "\n",
      "    accuracy                           0.73     20000\n",
      "   macro avg       0.71      0.75      0.72     20000\n",
      "weighted avg       0.74      0.73      0.73     20000\n",
      "\n"
     ]
    }
   ],
   "source": [
    "from sklearn.metrics import classification_report\n",
    "print(\"\\nClassification Report \")\n",
    "print(classification_report(y_val, y_pred, target_names=label_encoder.classes_))"
   ]
  },
  {
   "cell_type": "code",
   "execution_count": 46,
   "metadata": {
    "execution": {
     "iopub.execute_input": "2025-09-10T09:57:47.208245Z",
     "iopub.status.busy": "2025-09-10T09:57:47.207972Z",
     "iopub.status.idle": "2025-09-10T09:57:47.212956Z",
     "shell.execute_reply": "2025-09-10T09:57:47.212428Z",
     "shell.execute_reply.started": "2025-09-10T09:57:47.208218Z"
    },
    "trusted": true
   },
   "outputs": [
    {
     "name": "stdout",
     "output_type": "stream",
     "text": [
      "['Poor' 'Poor' 'Poor' ... 'Standard' 'Good' 'Poor']\n"
     ]
    }
   ],
   "source": [
    "\n",
    "# Transform the numerical predictions back to original labels\n",
    "y_pred_labels = label_encoder.inverse_transform(y_pred)\n",
    "\n",
    "print(y_pred_labels)\n"
   ]
  },
  {
   "cell_type": "markdown",
   "metadata": {},
   "source": [
    "**Prepare the test record dataset** "
   ]
  },
  {
   "cell_type": "code",
   "execution_count": 47,
   "metadata": {
    "execution": {
     "iopub.execute_input": "2025-09-10T09:57:47.214289Z",
     "iopub.status.busy": "2025-09-10T09:57:47.213708Z",
     "iopub.status.idle": "2025-09-10T09:57:47.236683Z",
     "shell.execute_reply": "2025-09-10T09:57:47.235956Z",
     "shell.execute_reply.started": "2025-09-10T09:57:47.214269Z"
    },
    "trusted": true
   },
   "outputs": [],
   "source": [
    "x_test = test_record.drop(columns=['ID', 'Customer_ID','Name','SSN'])"
   ]
  },
  {
   "cell_type": "code",
   "execution_count": 48,
   "metadata": {
    "execution": {
     "iopub.execute_input": "2025-09-10T09:57:47.237676Z",
     "iopub.status.busy": "2025-09-10T09:57:47.237470Z",
     "iopub.status.idle": "2025-09-10T09:57:47.241014Z",
     "shell.execute_reply": "2025-09-10T09:57:47.240387Z",
     "shell.execute_reply.started": "2025-09-10T09:57:47.237654Z"
    },
    "trusted": true
   },
   "outputs": [],
   "source": [
    "# Apply preprocessing to the split data ---\n",
    "# We fit the preprocessor on the training data. This learns the min/max values and\n",
    "# the categories from the training set only.\n",
    "#X_test_processed = preprocessor.transform(x_test)"
   ]
  },
  {
   "cell_type": "code",
   "execution_count": 49,
   "metadata": {
    "execution": {
     "iopub.execute_input": "2025-09-10T09:57:47.242102Z",
     "iopub.status.busy": "2025-09-10T09:57:47.241815Z",
     "iopub.status.idle": "2025-09-10T09:57:47.261374Z",
     "shell.execute_reply": "2025-09-10T09:57:47.260833Z",
     "shell.execute_reply.started": "2025-09-10T09:57:47.242080Z"
    },
    "trusted": true
   },
   "outputs": [],
   "source": [
    "#y_pred_probs_test = model.predict(X_test_processed)\n",
    "#y_pred_test = np.argmax(y_pred_probs_test, axis=1)\n",
    "#y_pred_test"
   ]
  },
  {
   "cell_type": "code",
   "execution_count": 50,
   "metadata": {
    "execution": {
     "iopub.execute_input": "2025-09-10T09:57:47.262453Z",
     "iopub.status.busy": "2025-09-10T09:57:47.262189Z",
     "iopub.status.idle": "2025-09-10T09:57:47.276843Z",
     "shell.execute_reply": "2025-09-10T09:57:47.276155Z",
     "shell.execute_reply.started": "2025-09-10T09:57:47.262429Z"
    },
    "trusted": true
   },
   "outputs": [],
   "source": [
    "# Transform the numerical predictions back to original labels\n",
    "#y_pred_labels_t = label_encoder.inverse_transform(y_pred_test)\n",
    "\n",
    "#print(y_pred_labels_t)"
   ]
  },
  {
   "cell_type": "code",
   "execution_count": 52,
   "metadata": {
    "execution": {
     "iopub.execute_input": "2025-09-10T10:05:34.856890Z",
     "iopub.status.busy": "2025-09-10T10:05:34.856619Z",
     "iopub.status.idle": "2025-09-10T10:05:34.886871Z",
     "shell.execute_reply": "2025-09-10T10:05:34.886304Z",
     "shell.execute_reply.started": "2025-09-10T10:05:34.856870Z"
    },
    "trusted": true
   },
   "outputs": [
    {
     "name": "stdout",
     "output_type": "stream",
     "text": [
      "Preprocessor and LabelEncoder saved as '.joblib' files.\n"
     ]
    }
   ],
   "source": [
    "import joblib \n",
    "joblib.dump(preprocessor, os.path.join(KAGGLE_WORKING_PATH, 'preprocessor.joblib'))\n",
    "joblib.dump(label_encoder, os.path.join(KAGGLE_WORKING_PATH, 'label_encoder.joblib'))\n",
    "print(\"Preprocessor and LabelEncoder saved as '.joblib' files.\")\n"
   ]
  },
  {
   "cell_type": "code",
   "execution_count": 53,
   "metadata": {
    "execution": {
     "iopub.execute_input": "2025-09-10T10:05:41.016666Z",
     "iopub.status.busy": "2025-09-10T10:05:41.016109Z",
     "iopub.status.idle": "2025-09-10T10:05:41.022582Z",
     "shell.execute_reply": "2025-09-10T10:05:41.021978Z",
     "shell.execute_reply.started": "2025-09-10T10:05:41.016645Z"
    },
    "trusted": true
   },
   "outputs": [],
   "source": [
    "app_code=\"\"\"import streamlit as st\n",
    "import pandas as pd\n",
    "import numpy as np\n",
    "import joblib\n",
    "import tensorflow as tf\n",
    "from tensorflow.keras.models import load_model\n",
    "import os\n",
    "\n",
    "# Set the path to the working directory\n",
    "working_dir = 'E:/studing/credit_score_app/'\n",
    "\n",
    "# --- 1. Load the trained model and preprocessor components ---\n",
    "try:\n",
    "    # Load the trained Keras model using the standard Keras method\n",
    "    model_path = os.path.join(working_dir, 'credit_score_nn_model.keras')\n",
    "    model = load_model(model_path)\n",
    "    # Load the preprocessor and label encoder\n",
    "    preprocessor_path = os.path.join(working_dir, 'preprocessor.joblib')\n",
    "    preprocessor = joblib.load(preprocessor_path)\n",
    "    label_encoder_path = os.path.join(working_dir, 'label_encoder.joblib')\n",
    "    label_encoder = joblib.load(label_encoder_path)\n",
    "except FileNotFoundError:\n",
    "    st.error(\"Error: Model or preprocessing files not found. Please run the training script first to create them.\")\n",
    "    st.stop()\n",
    "except Exception as e:\n",
    "    st.error(f\"An error occurred while loading the model: {e}\")\n",
    "    st.warning(\"Please ensure you have TensorFlow installed with the correct version. Try running 'pip install tensorflow'.\")\n",
    "    st.stop()\n",
    "\n",
    "# --- 2. Define the app title and form ---\n",
    "st.title(\"Credit Score Prediction App\")\n",
    "st.write(\"Enter the customer's information below to predict the credit score (Poor, Standard, or Good).\")\n",
    "\n",
    "with st.form(\"prediction_form\"):\n",
    "    st.header(\"Customer Data\")\n",
    "    \n",
    "    # Input fields\n",
    "    annual_income = st.number_input(\"Annual Income\", min_value=0.0, format=\"%.2f\")\n",
    "    monthly_inhand_salary = st.number_input(\"Monthly Inhand Salary\", min_value=0.0, format=\"%.2f\")\n",
    "    num_bank_accounts = st.number_input(\"Number of Bank Accounts\", min_value=0, step=1)\n",
    "    num_credit_card = st.number_input(\"Number of Credit Cards\", min_value=0, step=1)\n",
    "    interest_rate = st.number_input(\"Interest Rate\", min_value=0.0, format=\"%.2f\")\n",
    "    num_of_loan = st.number_input(\"Number of Loans\", min_value=0, step=1)\n",
    "    delay_from_due_date = st.number_input(\"Delay from Due Date (in days)\", min_value=0, step=1)\n",
    "    num_of_delayed_payment = st.number_input(\"Number of Delayed Payments\", min_value=0, step=1)\n",
    "    changed_credit_limit = st.number_input(\"Changed Credit Limit\", min_value=0.0, format=\"%.2f\")\n",
    "    num_credit_inquiries = st.number_input(\"Number of Credit Inquiries\", min_value=0, step=1)\n",
    "    outstanding_debt = st.number_input(\"Outstanding Debt\", min_value=0.0, format=\"%.2f\")\n",
    "    credit_utilization_ratio = st.number_input(\"Credit Utilization Ratio\", min_value=0.0, format=\"%.2f\")\n",
    "    total_emi_per_month = st.number_input(\"Total EMI per Month\", min_value=0.0, format=\"%.2f\")\n",
    "    amount_invested_monthly = st.number_input(\"Amount Invested Monthly\", min_value=0.0, format=\"%.2f\")\n",
    "    monthly_balance = st.number_input(\"Monthly Balance\", min_value=0.0, format=\"%.2f\")\n",
    "    credit_history_age_str = st.text_input(\"Credit History Age (e.g., 15 Years and 3 Months)\")\n",
    "    \n",
    "    # Categorical features\n",
    "    occupation = st.selectbox(\"Occupation\", [\"Scientist\", \"Mechanic\", \"Architect\", \"Engineer\"])\n",
    "    credit_mix = st.selectbox(\"Credit Mix\", [\"Good\", \"Standard\", \"Bad\"])\n",
    "    payment_of_min_amount = st.selectbox(\"Payment of Min Amount\", [\"No\", \"Yes\"])\n",
    "    payment_behaviour = st.selectbox(\"Payment Behaviour\", [\"High_spent_Small_value_payments\", \"Low_spent_Small_value_payments\", \"High_spent_Medium_value_payments\"])\n",
    "    \n",
    "    # Submit button\n",
    "    submitted = st.form_submit_button(\"Predict Credit Score\")\n",
    "\n",
    "    if submitted:\n",
    "        # --- 3. Process the input and make a prediction ---\n",
    "        # Convert credit history age to months\n",
    "        try:\n",
    "            parts = credit_history_age_str.replace('and', '').replace('Months', '').replace('Years', '').split()\n",
    "            years = int(parts[0])\n",
    "            months = int(parts[1])\n",
    "            credit_history_age_months = years * 12 + months\n",
    "        except (ValueError, IndexError):\n",
    "            st.warning(\"Please enter the credit history age in the correct format.\")\n",
    "            st.stop()\n",
    "            \n",
    "        # Create a DataFrame from the user's input\n",
    "        input_data = pd.DataFrame([{\n",
    "            'Annual_Income': annual_income,\n",
    "            'Monthly_Inhand_Salary': monthly_inhand_salary,\n",
    "            'Num_Bank_Accounts': num_bank_accounts,\n",
    "            'Num_Credit_Card': num_credit_card,\n",
    "            'Interest_Rate': interest_rate,\n",
    "            'Num_of_Loan': num_of_loan,\n",
    "            'Delay_from_due_date': delay_from_due_date,\n",
    "            'Num_of_Delayed_Payment': num_of_delayed_payment,\n",
    "            'Changed_Credit_Limit': changed_credit_limit,\n",
    "            'Num_Credit_Inquiries': num_credit_inquiries,\n",
    "            'Outstanding_Debt': outstanding_debt,\n",
    "            'Credit_Utilization_Ratio': credit_utilization_ratio,\n",
    "            'Total_EMI_per_month': total_emi_per_month,\n",
    "            'Amount_invested_monthly': amount_invested_monthly,\n",
    "            'Monthly_Balance': monthly_balance,\n",
    "            'Occupation': occupation,\n",
    "            'Credit_Mix': credit_mix,\n",
    "            'Payment_of_Min_Amount': payment_of_min_amount,\n",
    "            'Payment_Behaviour': payment_behaviour,\n",
    "            'Credit_History_Age_Months': credit_history_age_months\n",
    "        }])\n",
    "        \n",
    "        # Preprocess the input data using the saved preprocessor\n",
    "        processed_input = preprocessor.transform(input_data)\n",
    "        \n",
    "        # Make a prediction\n",
    "        prediction_prob = model.predict(processed_input)\n",
    "        prediction = np.argmax(prediction_prob, axis=1)\n",
    "        \n",
    "        # Convert the numerical prediction back to a label\n",
    "        predicted_label = label_encoder.inverse_transform(prediction)[0]\n",
    "        \n",
    "        # --- 4. Display the result ---\n",
    "        if predicted_label == 'Good':\n",
    "            st.success(f\"Prediction Result: {predicted_label}\")\n",
    "        elif predicted_label == 'Standard':\n",
    "            st.info(f\"Prediction Result: {predicted_label}\")\n",
    "        else:\n",
    "            st.warning(f\"Prediction Result: {predicted_label}\")\n",
    "\"\"\""
   ]
  },
  {
   "cell_type": "code",
   "execution_count": 54,
   "metadata": {
    "execution": {
     "iopub.execute_input": "2025-09-10T10:05:51.392004Z",
     "iopub.status.busy": "2025-09-10T10:05:51.391695Z",
     "iopub.status.idle": "2025-09-10T10:05:51.396795Z",
     "shell.execute_reply": "2025-09-10T10:05:51.396088Z",
     "shell.execute_reply.started": "2025-09-10T10:05:51.391981Z"
    },
    "trusted": true
   },
   "outputs": [
    {
     "name": "stdout",
     "output_type": "stream",
     "text": [
      "app.py saved successfully to /kaggle/working/\n"
     ]
    }
   ],
   "source": [
    "with open('/kaggle/working/app.py', 'w') as f:\n",
    "    f.write(app_code)\n",
    "print(\"app.py saved successfully to /kaggle/working/\")"
   ]
  },
  {
   "cell_type": "code",
   "execution_count": 55,
   "metadata": {
    "execution": {
     "iopub.execute_input": "2025-09-10T10:06:13.315375Z",
     "iopub.status.busy": "2025-09-10T10:06:13.315126Z",
     "iopub.status.idle": "2025-09-10T10:06:13.318818Z",
     "shell.execute_reply": "2025-09-10T10:06:13.318270Z",
     "shell.execute_reply.started": "2025-09-10T10:06:13.315358Z"
    },
    "trusted": true
   },
   "outputs": [],
   "source": [
    "# Define the content for requirements.txt\n",
    "Project_Requirements = \"\"\" streamlit\n",
    "pandas\n",
    "Numpy\n",
    "scikit-learn\n",
    "joblib\n",
    "tensorflow\n",
    "Keras\n",
    "matplotlib\n",
    "seaborn \n",
    "\"\"\""
   ]
  },
  {
   "cell_type": "code",
   "execution_count": 56,
   "metadata": {
    "execution": {
     "iopub.execute_input": "2025-09-10T10:06:19.168180Z",
     "iopub.status.busy": "2025-09-10T10:06:19.167894Z",
     "iopub.status.idle": "2025-09-10T10:06:19.173134Z",
     "shell.execute_reply": "2025-09-10T10:06:19.172314Z",
     "shell.execute_reply.started": "2025-09-10T10:06:19.168159Z"
    },
    "trusted": true
   },
   "outputs": [
    {
     "name": "stdout",
     "output_type": "stream",
     "text": [
      "requirements.txt saved successfully to /kaggle/working/\n"
     ]
    }
   ],
   "source": [
    "with open('/kaggle/working/requirements.txt', 'w') as f:\n",
    "    f.write(Project_Requirements)\n",
    "print(\"requirements.txt saved successfully to /kaggle/working/\")"
   ]
  },
  {
   "cell_type": "code",
   "execution_count": 57,
   "metadata": {
    "execution": {
     "iopub.execute_input": "2025-09-10T10:06:24.965970Z",
     "iopub.status.busy": "2025-09-10T10:06:24.965684Z",
     "iopub.status.idle": "2025-09-10T10:06:24.969681Z",
     "shell.execute_reply": "2025-09-10T10:06:24.968952Z",
     "shell.execute_reply.started": "2025-09-10T10:06:24.965949Z"
    },
    "trusted": true
   },
   "outputs": [],
   "source": [
    "# Define the content for the Dockerfile\n",
    "dockerfile_content = \"\"\"\n",
    "# Use a Python base image\n",
    "FROM python:3.11-slim\n",
    "\n",
    "# Set the working directory in the container\n",
    "WORKDIR /app\n",
    "\n",
    "# Copy the requirements file and install the dependencies\n",
    "COPY requirements.txt .\n",
    "RUN pip install --no-cache-dir -r requirements.txt\n",
    "\n",
    "# Copy all the necessary files into the container\n",
    "COPY . .\n",
    "\n",
    "# Expose the port that Streamlit runs on\n",
    "EXPOSE 8501\n",
    "\n",
    "# Command to run the Streamlit application\n",
    "CMD [\"streamlit\", \"run\", \"app.py\", \"--server.address=0.0.0.0\"]\n",
    "\"\"\""
   ]
  },
  {
   "cell_type": "code",
   "execution_count": 58,
   "metadata": {
    "execution": {
     "iopub.execute_input": "2025-09-10T10:06:31.319808Z",
     "iopub.status.busy": "2025-09-10T10:06:31.319136Z",
     "iopub.status.idle": "2025-09-10T10:06:31.323861Z",
     "shell.execute_reply": "2025-09-10T10:06:31.323145Z",
     "shell.execute_reply.started": "2025-09-10T10:06:31.319785Z"
    },
    "trusted": true
   },
   "outputs": [
    {
     "name": "stdout",
     "output_type": "stream",
     "text": [
      "DockerFile saved successfully to /kaggle/working/\n"
     ]
    }
   ],
   "source": [
    "with open('/kaggle/working/DockerFile', 'w') as f:\n",
    "    f.write(dockerfile_content)\n",
    "print(\"DockerFile saved successfully to /kaggle/working/\")"
   ]
  },
  {
   "cell_type": "code",
   "execution_count": 59,
   "metadata": {
    "execution": {
     "iopub.execute_input": "2025-09-10T10:06:34.541541Z",
     "iopub.status.busy": "2025-09-10T10:06:34.540892Z",
     "iopub.status.idle": "2025-09-10T10:06:34.546310Z",
     "shell.execute_reply": "2025-09-10T10:06:34.545356Z",
     "shell.execute_reply.started": "2025-09-10T10:06:34.541514Z"
    },
    "trusted": true
   },
   "outputs": [
    {
     "name": "stdout",
     "output_type": "stream",
     "text": [
      "['.virtual_documents', 'app.py', 'requirements.txt', 'label_encoder.joblib', 'credit_score_nn_model.keras', 'DockerFile', 'preprocessor.joblib']\n"
     ]
    }
   ],
   "source": [
    "print(os.listdir(\"/kaggle/working/\"))"
   ]
  },
  {
   "cell_type": "code",
   "execution_count": null,
   "metadata": {
    "execution": {
     "iopub.status.busy": "2025-09-10T09:57:47.593171Z",
     "iopub.status.idle": "2025-09-10T09:57:47.593460Z",
     "shell.execute_reply": "2025-09-10T09:57:47.593306Z",
     "shell.execute_reply.started": "2025-09-10T09:57:47.593291Z"
    },
    "trusted": true
   },
   "outputs": [],
   "source": [
    "# conda activate myenv\n",
    "# cd /d E:\\studing\\credit_score_app\n",
    "# dir\n",
    "# streamlit run app.py\n",
    "\n"
   ]
  }
 ],
 "metadata": {
  "kaggle": {
   "accelerator": "nvidiaTeslaT4",
   "dataSources": [
    {
     "datasetId": 2289007,
     "sourceId": 3846912,
     "sourceType": "datasetVersion"
    }
   ],
   "dockerImageVersionId": 31089,
   "isGpuEnabled": true,
   "isInternetEnabled": true,
   "language": "python",
   "sourceType": "notebook"
  },
  "kernelspec": {
   "display_name": "Python 3",
   "language": "python",
   "name": "python3"
  },
  "language_info": {
   "codemirror_mode": {
    "name": "ipython",
    "version": 3
   },
   "file_extension": ".py",
   "mimetype": "text/x-python",
   "name": "python",
   "nbconvert_exporter": "python",
   "pygments_lexer": "ipython3",
   "version": "3.11.13"
  }
 },
 "nbformat": 4,
 "nbformat_minor": 4
}
